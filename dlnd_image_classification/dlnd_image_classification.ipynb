{
 "cells": [
  {
   "cell_type": "markdown",
   "metadata": {
    "collapsed": true,
    "deletable": true,
    "editable": true
   },
   "source": [
    "# Image Classification\n",
    "In this project, you'll classify images from the [CIFAR-10 dataset](https://www.cs.toronto.edu/~kriz/cifar.html).  The dataset consists of airplanes, dogs, cats, and other objects. You'll preprocess the images, then train a convolutional neural network on all the samples. The images need to be normalized and the labels need to be one-hot encoded.  You'll get to apply what you learned and build a convolutional, max pooling, dropout, and fully connected layers.  At the end, you'll get to see your neural network's predictions on the sample images.\n",
    "## Get the Data\n",
    "Run the following cell to download the [CIFAR-10 dataset for python](https://www.cs.toronto.edu/~kriz/cifar-10-python.tar.gz)."
   ]
  },
  {
   "cell_type": "code",
   "execution_count": 2,
   "metadata": {
    "collapsed": false,
    "deletable": true,
    "editable": true
   },
   "outputs": [
    {
     "name": "stderr",
     "output_type": "stream",
     "text": [
      "CIFAR-10 Dataset: 171MB [01:40, 1.70MB/s]                              \n"
     ]
    },
    {
     "name": "stdout",
     "output_type": "stream",
     "text": [
      "All files found!\n"
     ]
    }
   ],
   "source": [
    "\"\"\"\n",
    "DON'T MODIFY ANYTHING IN THIS CELL THAT IS BELOW THIS LINE\n",
    "\"\"\"\n",
    "from urllib.request import urlretrieve\n",
    "from os.path import isfile, isdir\n",
    "from tqdm import tqdm\n",
    "import problem_unittests as tests\n",
    "import tarfile\n",
    "\n",
    "cifar10_dataset_folder_path = 'cifar-10-batches-py'\n",
    "\n",
    "# Use Floyd's cifar-10 dataset if present\n",
    "floyd_cifar10_location = '/input/cifar-10/python.tar.gz'\n",
    "if isfile(floyd_cifar10_location):\n",
    "    tar_gz_path = floyd_cifar10_location\n",
    "else:\n",
    "    tar_gz_path = 'cifar-10-python.tar.gz'\n",
    "\n",
    "class DLProgress(tqdm):\n",
    "    last_block = 0\n",
    "\n",
    "    def hook(self, block_num=1, block_size=1, total_size=None):\n",
    "        self.total = total_size\n",
    "        self.update((block_num - self.last_block) * block_size)\n",
    "        self.last_block = block_num\n",
    "\n",
    "if not isfile(tar_gz_path):\n",
    "    with DLProgress(unit='B', unit_scale=True, miniters=1, desc='CIFAR-10 Dataset') as pbar:\n",
    "        urlretrieve(\n",
    "            'https://www.cs.toronto.edu/~kriz/cifar-10-python.tar.gz',\n",
    "            tar_gz_path,\n",
    "            pbar.hook)\n",
    "\n",
    "if not isdir(cifar10_dataset_folder_path):\n",
    "    with tarfile.open(tar_gz_path) as tar:\n",
    "        tar.extractall()\n",
    "        tar.close()\n",
    "\n",
    "\n",
    "tests.test_folder_path(cifar10_dataset_folder_path)"
   ]
  },
  {
   "cell_type": "markdown",
   "metadata": {
    "deletable": true,
    "editable": true
   },
   "source": [
    "## Explore the Data\n",
    "The dataset is broken into batches to prevent your machine from running out of memory.  The CIFAR-10 dataset consists of 5 batches, named `data_batch_1`, `data_batch_2`, etc.. Each batch contains the labels and images that are one of the following:\n",
    "* airplane\n",
    "* automobile\n",
    "* bird\n",
    "* cat\n",
    "* deer\n",
    "* dog\n",
    "* frog\n",
    "* horse\n",
    "* ship\n",
    "* truck\n",
    "\n",
    "Understanding a dataset is part of making predictions on the data.  Play around with the code cell below by changing the `batch_id` and `sample_id`. The `batch_id` is the id for a batch (1-5). The `sample_id` is the id for a image and label pair in the batch.\n",
    "\n",
    "Ask yourself \"What are all possible labels?\", \"What is the range of values for the image data?\", \"Are the labels in order or random?\".  Answers to questions like these will help you preprocess the data and end up with better predictions."
   ]
  },
  {
   "cell_type": "code",
   "execution_count": 3,
   "metadata": {
    "collapsed": false,
    "deletable": true,
    "editable": true
   },
   "outputs": [
    {
     "name": "stdout",
     "output_type": "stream",
     "text": [
      "\n",
      "Stats of batch 4:\n",
      "Samples: 10000\n",
      "Label Counts: {0: 1003, 1: 963, 2: 1041, 3: 976, 4: 1004, 5: 1021, 6: 1004, 7: 981, 8: 1024, 9: 983}\n",
      "First 20 Labels: [0, 6, 0, 2, 7, 2, 1, 2, 4, 1, 5, 6, 6, 3, 1, 3, 5, 5, 8, 1]\n",
      "\n",
      "Example of Image 42:\n",
      "Image - Min Value: 7 Max Value: 255\n",
      "Image - Shape: (32, 32, 3)\n",
      "Label - Label Id: 5 Name: dog\n"
     ]
    },
    {
     "data": {
      "image/png": "[encoded data removed]",
      "text/plain": [
       "<matplotlib.figure.Figure at 0x7ff539c7ff28>"
      ]
     },
     "metadata": {
      "image/png": {
       "height": 250,
       "width": 253
      }
     },
     "output_type": "display_data"
    }
   ],
   "source": [
    "%matplotlib inline\n",
    "%config InlineBackend.figure_format = 'retina'\n",
    "\n",
    "import helper\n",
    "import numpy as np\n",
    "\n",
    "# Explore the dataset\n",
    "batch_id = 4\n",
    "sample_id = 42\n",
    "helper.display_stats(cifar10_dataset_folder_path, batch_id, sample_id)"
   ]
  },
  {
   "cell_type": "markdown",
   "metadata": {
    "deletable": true,
    "editable": true
   },
   "source": [
    "## Implement Preprocess Functions\n",
    "### Normalize\n",
    "In the cell below, implement the `normalize` function to take in image data, `x`, and return it as a normalized Numpy array. The values should be in the range of 0 to 1, inclusive.  The return object should be the same shape as `x`."
   ]
  },
  {
   "cell_type": "code",
   "execution_count": 4,
   "metadata": {
    "collapsed": false,
    "deletable": true,
    "editable": true
   },
   "outputs": [
    {
     "name": "stdout",
     "output_type": "stream",
     "text": [
      "Tests Passed\n"
     ]
    }
   ],
   "source": [
    "def normalize(x):\n",
    "    \"\"\"\n",
    "    Normalize a list of sample image data in the range of 0 to 1\n",
    "    : x: List of image data.  The image shape is (32, 32, 3)\n",
    "    : return: Numpy array of normalize data\n",
    "    \"\"\"\n",
    "    # TODO: Implement Function\n",
    "    min_val = np.min(x)\n",
    "    max_val = np.max(x)\n",
    "    norm_val = list()\n",
    "    \n",
    "    for val in x:\n",
    "        norm_val.append( ( val - min_val ) / ( max_val - min_val ) )\n",
    "    \n",
    "    return np.array(norm_val)\n",
    "\n",
    "\n",
    "\"\"\"\n",
    "DON'T MODIFY ANYTHING IN THIS CELL THAT IS BELOW THIS LINE\n",
    "\"\"\"\n",
    "tests.test_normalize(normalize)"
   ]
  },
  {
   "cell_type": "markdown",
   "metadata": {
    "deletable": true,
    "editable": true
   },
   "source": [
    "### One-hot encode\n",
    "Just like the previous code cell, you'll be implementing a function for preprocessing.  This time, you'll implement the `one_hot_encode` function. The input, `x`, are a list of labels.  Implement the function to return the list of labels as One-Hot encoded Numpy array.  The possible values for labels are 0 to 9. The one-hot encoding function should return the same encoding for each value between each call to `one_hot_encode`.  Make sure to save the map of encodings outside the function.\n",
    "\n",
    "Hint: Don't reinvent the wheel."
   ]
  },
  {
   "cell_type": "code",
   "execution_count": 5,
   "metadata": {
    "collapsed": false,
    "deletable": true,
    "editable": true
   },
   "outputs": [
    {
     "name": "stdout",
     "output_type": "stream",
     "text": [
      "Tests Passed\n"
     ]
    }
   ],
   "source": [
    "def one_hot_encode(x):\n",
    "    \"\"\"\n",
    "    One hot encode a list of sample labels. Return a one-hot encoded vector for each label.\n",
    "    : x: List of sample Labels\n",
    "    : return: Numpy array of one-hot encoded labels\n",
    "    \"\"\"\n",
    "    # TODO: Implement Function\n",
    "    y = np.zeros((len(x), 10))\n",
    "    for i in range(len(x)):\n",
    "        y[i,x[i]] = 1\n",
    "    return y\n",
    "\n",
    "\n",
    "\"\"\"\n",
    "DON'T MODIFY ANYTHING IN THIS CELL THAT IS BELOW THIS LINE\n",
    "\"\"\"\n",
    "tests.test_one_hot_encode(one_hot_encode)"
   ]
  },
  {
   "cell_type": "markdown",
   "metadata": {
    "deletable": true,
    "editable": true
   },
   "source": [
    "### Randomize Data\n",
    "As you saw from exploring the data above, the order of the samples are randomized.  It doesn't hurt to randomize it again, but you don't need to for this dataset."
   ]
  },
  {
   "cell_type": "markdown",
   "metadata": {
    "deletable": true,
    "editable": true
   },
   "source": [
    "## Preprocess all the data and save it\n",
    "Running the code cell below will preprocess all the CIFAR-10 data and save it to file. The code below also uses 10% of the training data for validation."
   ]
  },
  {
   "cell_type": "code",
   "execution_count": 6,
   "metadata": {
    "collapsed": true,
    "deletable": true,
    "editable": true
   },
   "outputs": [],
   "source": [
    "\"\"\"\n",
    "DON'T MODIFY ANYTHING IN THIS CELL\n",
    "\"\"\"\n",
    "# Preprocess Training, Validation, and Testing Data\n",
    "helper.preprocess_and_save_data(cifar10_dataset_folder_path, normalize, one_hot_encode)"
   ]
  },
  {
   "cell_type": "markdown",
   "metadata": {
    "deletable": true,
    "editable": true
   },
   "source": [
    "# Check Point\n",
    "This is your first checkpoint.  If you ever decide to come back to this notebook or have to restart the notebook, you can start from here.  The preprocessed data has been saved to disk."
   ]
  },
  {
   "cell_type": "code",
   "execution_count": 7,
   "metadata": {
    "collapsed": true,
    "deletable": true,
    "editable": true
   },
   "outputs": [],
   "source": [
    "\"\"\"\n",
    "DON'T MODIFY ANYTHING IN THIS CELL\n",
    "\"\"\"\n",
    "import pickle\n",
    "import problem_unittests as tests\n",
    "import helper\n",
    "\n",
    "# Load the Preprocessed Validation data\n",
    "valid_features, valid_labels = pickle.load(open('preprocess_validation.p', mode='rb'))"
   ]
  },
  {
   "cell_type": "markdown",
   "metadata": {
    "deletable": true,
    "editable": true
   },
   "source": [
    "## Build the network\n",
    "For the neural network, you'll build each layer into a function.  Most of the code you've seen has been outside of functions. To test your code more thoroughly, we require that you put each layer in a function.  This allows us to give you better feedback and test for simple mistakes using our unittests before you submit your project.\n",
    "\n",
    ">**Note:** If you're finding it hard to dedicate enough time for this course each week, we've provided a small shortcut to this part of the project. In the next couple of problems, you'll have the option to use classes from the [TensorFlow Layers](https://www.tensorflow.org/api_docs/python/tf/layers) or [TensorFlow Layers (contrib)](https://www.tensorflow.org/api_guides/python/contrib.layers) packages to build each layer, except the layers you build in the \"Convolutional and Max Pooling Layer\" section.  TF Layers is similar to Keras's and TFLearn's abstraction to layers, so it's easy to pickup.\n",
    "\n",
    ">However, if you would like to get the most out of this course, try to solve all the problems _without_ using anything from the TF Layers packages. You **can** still use classes from other packages that happen to have the same name as ones you find in TF Layers! For example, instead of using the TF Layers version of the `conv2d` class, [tf.layers.conv2d](https://www.tensorflow.org/api_docs/python/tf/layers/conv2d), you would want to use the TF Neural Network version of `conv2d`, [tf.nn.conv2d](https://www.tensorflow.org/api_docs/python/tf/nn/conv2d). \n",
    "\n",
    "Let's begin!\n",
    "\n",
    "### Input\n",
    "The neural network needs to read the image data, one-hot encoded labels, and dropout keep probability. Implement the following functions\n",
    "* Implement `neural_net_image_input`\n",
    " * Return a [TF Placeholder](https://www.tensorflow.org/api_docs/python/tf/placeholder)\n",
    " * Set the shape using `image_shape` with batch size set to `None`.\n",
    " * Name the TensorFlow placeholder \"x\" using the TensorFlow `name` parameter in the [TF Placeholder](https://www.tensorflow.org/api_docs/python/tf/placeholder).\n",
    "* Implement `neural_net_label_input`\n",
    " * Return a [TF Placeholder](https://www.tensorflow.org/api_docs/python/tf/placeholder)\n",
    " * Set the shape using `n_classes` with batch size set to `None`.\n",
    " * Name the TensorFlow placeholder \"y\" using the TensorFlow `name` parameter in the [TF Placeholder](https://www.tensorflow.org/api_docs/python/tf/placeholder).\n",
    "* Implement `neural_net_keep_prob_input`\n",
    " * Return a [TF Placeholder](https://www.tensorflow.org/api_docs/python/tf/placeholder) for dropout keep probability.\n",
    " * Name the TensorFlow placeholder \"keep_prob\" using the TensorFlow `name` parameter in the [TF Placeholder](https://www.tensorflow.org/api_docs/python/tf/placeholder).\n",
    "\n",
    "These names will be used at the end of the project to load your saved model.\n",
    "\n",
    "Note: `None` for shapes in TensorFlow allow for a dynamic size."
   ]
  },
  {
   "cell_type": "code",
   "execution_count": 8,
   "metadata": {
    "collapsed": false,
    "deletable": true,
    "editable": true
   },
   "outputs": [
    {
     "name": "stdout",
     "output_type": "stream",
     "text": [
      "Image Input Tests Passed.\n",
      "Label Input Tests Passed.\n",
      "Keep Prob Tests Passed.\n"
     ]
    }
   ],
   "source": [
    "import tensorflow as tf\n",
    "\n",
    "def neural_net_image_input(image_shape):\n",
    "    \"\"\"\n",
    "    Return a Tensor for a batch of image input\n",
    "    : image_shape: Shape of the images\n",
    "    : return: Tensor for image input.\n",
    "    \"\"\"\n",
    "    # TODO: Implement Function\n",
    "    return tf.placeholder(tf.float32, shape=([None] + list(image_shape)), name=\"x\")\n",
    "\n",
    "\n",
    "def neural_net_label_input(n_classes):\n",
    "    \"\"\"\n",
    "    Return a Tensor for a batch of label input\n",
    "    : n_classes: Number of classes\n",
    "    : return: Tensor for label input.\n",
    "    \"\"\"\n",
    "    # TODO: Implement Function\n",
    "    return tf.placeholder(tf.float32, shape=(None, n_classes), name=\"y\")\n",
    "\n",
    "\n",
    "def neural_net_keep_prob_input():\n",
    "    \"\"\"\n",
    "    Return a Tensor for keep probability\n",
    "    : return: Tensor for keep probability.\n",
    "    \"\"\"\n",
    "    # TODO: Implement Function\n",
    "    return tf.placeholder(tf.float32, shape=(None), name=\"keep_prob\")\n",
    "\n",
    "\n",
    "\"\"\"\n",
    "DON'T MODIFY ANYTHING IN THIS CELL THAT IS BELOW THIS LINE\n",
    "\"\"\"\n",
    "tf.reset_default_graph()\n",
    "tests.test_nn_image_inputs(neural_net_image_input)\n",
    "tests.test_nn_label_inputs(neural_net_label_input)\n",
    "tests.test_nn_keep_prob_inputs(neural_net_keep_prob_input)"
   ]
  },
  {
   "cell_type": "markdown",
   "metadata": {
    "deletable": true,
    "editable": true
   },
   "source": [
    "### Convolution and Max Pooling Layer\n",
    "Convolution layers have a lot of success with images. For this code cell, you should implement the function `conv2d_maxpool` to apply convolution then max pooling:\n",
    "* Create the weight and bias using `conv_ksize`, `conv_num_outputs` and the shape of `x_tensor`.\n",
    "* Apply a convolution to `x_tensor` using weight and `conv_strides`.\n",
    " * We recommend you use same padding, but you're welcome to use any padding.\n",
    "* Add bias\n",
    "* Add a nonlinear activation to the convolution.\n",
    "* Apply Max Pooling using `pool_ksize` and `pool_strides`.\n",
    " * We recommend you use same padding, but you're welcome to use any padding.\n",
    "\n",
    "**Note:** You **can't** use [TensorFlow Layers](https://www.tensorflow.org/api_docs/python/tf/layers) or [TensorFlow Layers (contrib)](https://www.tensorflow.org/api_guides/python/contrib.layers) for **this** layer, but you can still use TensorFlow's [Neural Network](https://www.tensorflow.org/api_docs/python/tf/nn) package. You may still use the shortcut option for all the **other** layers."
   ]
  },
  {
   "cell_type": "code",
   "execution_count": 9,
   "metadata": {
    "collapsed": false,
    "deletable": true,
    "editable": true
   },
   "outputs": [
    {
     "name": "stdout",
     "output_type": "stream",
     "text": [
      "Tests Passed\n"
     ]
    }
   ],
   "source": [
    "def conv2d_maxpool(x_tensor, conv_num_outputs, conv_ksize, conv_strides, pool_ksize, pool_strides):\n",
    "    \"\"\"\n",
    "    Apply convolution then max pooling to x_tensor\n",
    "    :param x_tensor: TensorFlow Tensor\n",
    "    :param conv_num_outputs: Number of outputs for the convolutional layer\n",
    "    :param conv_ksize: kernal size 2-D Tuple for the convolutional layer\n",
    "    :param conv_strides: Stride 2-D Tuple for convolution\n",
    "    :param pool_ksize: kernal size 2-D Tuple for pool\n",
    "    :param pool_strides: Stride 2-D Tuple for pool\n",
    "    : return: A tensor that represents convolution and max pooling of x_tensor\n",
    "    \"\"\"\n",
    "    # TODO: Implement Function\n",
    "    weights_shape = list(conv_ksize) + [x_tensor.get_shape().as_list()[3], conv_num_outputs]\n",
    "    \n",
    "    weights = tf.Variable(tf.truncated_normal(weights_shape, stddev=5e-2))\n",
    "    bias = tf.Variable(tf.zeros(conv_num_outputs))\n",
    "    \n",
    "    \n",
    "    output = tf.nn.conv2d(x_tensor, weights, \n",
    "                          strides=[1, conv_strides[0], conv_strides[1], 1],\n",
    "                          padding='SAME')\n",
    "    output = tf.nn.bias_add(output, bias)\n",
    "    output = tf.nn.relu(output)\n",
    "    \n",
    "    \n",
    "    output = tf.nn.max_pool(output, \n",
    "                            ksize=[1, pool_ksize[0], pool_ksize[1], 1], \n",
    "                            strides=[1, pool_strides[0], pool_strides[1], 1],\n",
    "                            padding='SAME')                                  \n",
    "    return output\n",
    "\n",
    "\n",
    "\"\"\"\n",
    "DON'T MODIFY ANYTHING IN THIS CELL THAT IS BELOW THIS LINE\n",
    "\"\"\"\n",
    "tests.test_con_pool(conv2d_maxpool)"
   ]
  },
  {
   "cell_type": "markdown",
   "metadata": {
    "deletable": true,
    "editable": true
   },
   "source": [
    "### Flatten Layer\n",
    "Implement the `flatten` function to change the dimension of `x_tensor` from a 4-D tensor to a 2-D tensor.  The output should be the shape (*Batch Size*, *Flattened Image Size*). Shortcut option: you can use classes from the [TensorFlow Layers](https://www.tensorflow.org/api_docs/python/tf/layers) or [TensorFlow Layers (contrib)](https://www.tensorflow.org/api_guides/python/contrib.layers) packages for this layer. For more of a challenge, only use other TensorFlow packages."
   ]
  },
  {
   "cell_type": "code",
   "execution_count": 10,
   "metadata": {
    "collapsed": false,
    "deletable": true,
    "editable": true
   },
   "outputs": [
    {
     "name": "stdout",
     "output_type": "stream",
     "text": [
      "Tests Passed\n"
     ]
    }
   ],
   "source": [
    "def flatten(x_tensor):\n",
    "    \"\"\"\n",
    "    Flatten x_tensor to (Batch Size, Flattened Image Size)\n",
    "    : x_tensor: A tensor of size (Batch Size, ...), where ... are the image dimensions.\n",
    "    : return: A tensor of size (Batch Size, Flattened Image Size).\n",
    "    \"\"\"\n",
    "    # TODO: Implement Function\n",
    "    tensor_shape = x_tensor.get_shape().as_list()\n",
    "    \n",
    "    flattened_shape = np.array(tensor_shape[1:]).prod()\n",
    "    \n",
    "    return tf.reshape(x_tensor, [tf.shape(x_tensor)[0], flattened_shape])\n",
    "\n",
    "\n",
    "\"\"\"\n",
    "DON'T MODIFY ANYTHING IN THIS CELL THAT IS BELOW THIS LINE\n",
    "\"\"\"\n",
    "tests.test_flatten(flatten)"
   ]
  },
  {
   "cell_type": "markdown",
   "metadata": {
    "deletable": true,
    "editable": true
   },
   "source": [
    "### Fully-Connected Layer\n",
    "Implement the `fully_conn` function to apply a fully connected layer to `x_tensor` with the shape (*Batch Size*, *num_outputs*). Shortcut option: you can use classes from the [TensorFlow Layers](https://www.tensorflow.org/api_docs/python/tf/layers) or [TensorFlow Layers (contrib)](https://www.tensorflow.org/api_guides/python/contrib.layers) packages for this layer. For more of a challenge, only use other TensorFlow packages."
   ]
  },
  {
   "cell_type": "code",
   "execution_count": 11,
   "metadata": {
    "collapsed": false,
    "deletable": true,
    "editable": true
   },
   "outputs": [
    {
     "name": "stdout",
     "output_type": "stream",
     "text": [
      "Tests Passed\n"
     ]
    }
   ],
   "source": [
    "def fully_conn(x_tensor, num_outputs):\n",
    "    \"\"\"\n",
    "    Apply a fully connected layer to x_tensor using weight and bias\n",
    "    : x_tensor: A 2-D tensor where the first dimension is batch size.\n",
    "    : num_outputs: The number of output that the new tensor should be.\n",
    "    : return: A 2-D tensor where the second dimension is num_outputs.\n",
    "    \"\"\"\n",
    "    # TODO: Implement Function\n",
    "    dimension = x_tensor.get_shape().as_list()\n",
    "    shape = list( (dimension[-1],) + (num_outputs,))\n",
    "    weight = tf.Variable(tf.truncated_normal(shape,0,0.1))\n",
    "    bias = tf.Variable(tf.zeros(num_outputs))\n",
    "    return tf.nn.relu(tf.add(tf.matmul(x_tensor,weight), bias))\n",
    "\n",
    "\n",
    "\"\"\"\n",
    "DON'T MODIFY ANYTHING IN THIS CELL THAT IS BELOW THIS LINE\n",
    "\"\"\"\n",
    "tests.test_fully_conn(fully_conn)"
   ]
  },
  {
   "cell_type": "markdown",
   "metadata": {
    "deletable": true,
    "editable": true
   },
   "source": [
    "### Output Layer\n",
    "Implement the `output` function to apply a fully connected layer to `x_tensor` with the shape (*Batch Size*, *num_outputs*). Shortcut option: you can use classes from the [TensorFlow Layers](https://www.tensorflow.org/api_docs/python/tf/layers) or [TensorFlow Layers (contrib)](https://www.tensorflow.org/api_guides/python/contrib.layers) packages for this layer. For more of a challenge, only use other TensorFlow packages.\n",
    "\n",
    "**Note:** Activation, softmax, or cross entropy should **not** be applied to this."
   ]
  },
  {
   "cell_type": "code",
   "execution_count": 12,
   "metadata": {
    "collapsed": false,
    "deletable": true,
    "editable": true
   },
   "outputs": [
    {
     "name": "stdout",
     "output_type": "stream",
     "text": [
      "Tests Passed\n"
     ]
    }
   ],
   "source": [
    "def output(x_tensor, num_outputs):\n",
    "    \"\"\"\n",
    "    Apply a output layer to x_tensor using weight and bias\n",
    "    : x_tensor: A 2-D tensor where the first dimension is batch size.\n",
    "    : num_outputs: The number of output that the new tensor should be.\n",
    "    : return: A 2-D tensor where the second dimension is num_outputs.\n",
    "    \"\"\"\n",
    "    # TODO: Implement Function\n",
    "    dimension = x_tensor.get_shape().as_list()\n",
    "    shape = list( (dimension[-1],) + (num_outputs,))\n",
    "    weight = tf.Variable(tf.truncated_normal(shape,0,0.01))\n",
    "    bias = tf.Variable(tf.zeros(num_outputs))\n",
    "    return tf.add(tf.matmul(x_tensor,weight), bias)\n",
    "\n",
    "\n",
    "\"\"\"\n",
    "DON'T MODIFY ANYTHING IN THIS CELL THAT IS BELOW THIS LINE\n",
    "\"\"\"\n",
    "tests.test_output(output)"
   ]
  },
  {
   "cell_type": "markdown",
   "metadata": {
    "deletable": true,
    "editable": true
   },
   "source": [
    "### Create Convolutional Model\n",
    "Implement the function `conv_net` to create a convolutional neural network model. The function takes in a batch of images, `x`, and outputs logits.  Use the layers you created above to create this model:\n",
    "\n",
    "* Apply 1, 2, or 3 Convolution and Max Pool layers\n",
    "* Apply a Flatten Layer\n",
    "* Apply 1, 2, or 3 Fully Connected Layers\n",
    "* Apply an Output Layer\n",
    "* Return the output\n",
    "* Apply [TensorFlow's Dropout](https://www.tensorflow.org/api_docs/python/tf/nn/dropout) to one or more layers in the model using `keep_prob`. "
   ]
  },
  {
   "cell_type": "code",
   "execution_count": 13,
   "metadata": {
    "collapsed": false,
    "deletable": true,
    "editable": true
   },
   "outputs": [
    {
     "name": "stdout",
     "output_type": "stream",
     "text": [
      "Neural Network Built!\n"
     ]
    }
   ],
   "source": [
    "def conv_net(x, keep_prob):\n",
    "    \"\"\"\n",
    "    Create a convolutional neural network model\n",
    "    : x: Placeholder tensor that holds image data.\n",
    "    : keep_prob: Placeholder tensor that hold dropout keep probability.\n",
    "    : return: Tensor that represents logits\n",
    "    \"\"\"\n",
    "    # TODO: Apply 1, 2, or 3 Convolution and Max Pool layers\n",
    "    #    Play around with different number of outputs, kernel size and stride\n",
    "    # Function Definition from Above:\n",
    "    #    conv2d_maxpool(x_tensor, conv_num_outputs, conv_ksize, conv_strides, pool_ksize, pool_strides)\n",
    "    x = conv2d_maxpool(x, 16, (4, 4), (1, 1), (2, 2), (2, 2))\n",
    "    x = conv2d_maxpool(x, 32, (4, 4), (2, 2), (2, 2), (2, 2))\n",
    "    x = conv2d_maxpool(x, 32, (4, 4), (1, 1), (2, 2), (2, 2))\n",
    "\n",
    "    # TODO: Apply a Flatten Layer\n",
    "    # Function Definition from Above:\n",
    "    #   flatten(x_tensor)\n",
    "    x = flatten(x)\n",
    "\n",
    "    # TODO: Apply 1, 2, or 3 Fully Connected Layers\n",
    "    #    Play around with different number of outputs\n",
    "    # Function Definition from Above:\n",
    "    #   fully_conn(x_tensor, num_outputs)\n",
    "    x = fully_conn(x, 512)\n",
    "    x = tf.nn.dropout(x, keep_prob=keep_prob)\n",
    "    x = fully_conn(x, 512)\n",
    "    x = tf.nn.dropout(x, keep_prob=keep_prob)\n",
    "    \n",
    "    # TODO: Apply an Output Layer\n",
    "    #    Set this to the number of classes\n",
    "    # Function Definition from Above:\n",
    "    #   output(x_tensor, num_outputs)\n",
    "    out = output(x, 10)\n",
    "    \n",
    "    # TODO: return output\n",
    "    return out\n",
    "\n",
    "\n",
    "\"\"\"\n",
    "DON'T MODIFY ANYTHING IN THIS CELL THAT IS BELOW THIS LINE\n",
    "\"\"\"\n",
    "\n",
    "##############################\n",
    "## Build the Neural Network ##\n",
    "##############################\n",
    "\n",
    "# Remove previous weights, bias, inputs, etc..\n",
    "tf.reset_default_graph()\n",
    "\n",
    "# Inputs\n",
    "x = neural_net_image_input((32, 32, 3))\n",
    "y = neural_net_label_input(10)\n",
    "keep_prob = neural_net_keep_prob_input()\n",
    "\n",
    "# Model\n",
    "logits = conv_net(x, keep_prob)\n",
    "\n",
    "# Name logits Tensor, so that is can be loaded from disk after training\n",
    "logits = tf.identity(logits, name='logits')\n",
    "\n",
    "# Loss and Optimizer\n",
    "cost = tf.reduce_mean(tf.nn.softmax_cross_entropy_with_logits(logits=logits, labels=y))\n",
    "optimizer = tf.train.AdamOptimizer().minimize(cost)\n",
    "\n",
    "# Accuracy\n",
    "correct_pred = tf.equal(tf.argmax(logits, 1), tf.argmax(y, 1))\n",
    "accuracy = tf.reduce_mean(tf.cast(correct_pred, tf.float32), name='accuracy')\n",
    "\n",
    "tests.test_conv_net(conv_net)"
   ]
  },
  {
   "cell_type": "markdown",
   "metadata": {
    "deletable": true,
    "editable": true
   },
   "source": [
    "## Train the Neural Network\n",
    "### Single Optimization\n",
    "Implement the function `train_neural_network` to do a single optimization.  The optimization should use `optimizer` to optimize in `session` with a `feed_dict` of the following:\n",
    "* `x` for image input\n",
    "* `y` for labels\n",
    "* `keep_prob` for keep probability for dropout\n",
    "\n",
    "This function will be called for each batch, so `tf.global_variables_initializer()` has already been called.\n",
    "\n",
    "Note: Nothing needs to be returned. This function is only optimizing the neural network."
   ]
  },
  {
   "cell_type": "code",
   "execution_count": 14,
   "metadata": {
    "collapsed": false,
    "deletable": true,
    "editable": true
   },
   "outputs": [
    {
     "name": "stdout",
     "output_type": "stream",
     "text": [
      "Tests Passed\n"
     ]
    }
   ],
   "source": [
    "def train_neural_network(session, optimizer, keep_probability, feature_batch, label_batch):\n",
    "    \"\"\"\n",
    "    Optimize the session on a batch of images and labels\n",
    "    : session: Current TensorFlow session\n",
    "    : optimizer: TensorFlow optimizer function\n",
    "    : keep_probability: keep probability\n",
    "    : feature_batch: Batch of Numpy image data\n",
    "    : label_batch: Batch of Numpy label data\n",
    "    \"\"\"\n",
    "    # TODO: Implement Function\n",
    "    session.run(optimizer, feed_dict={x:feature_batch, y:label_batch, keep_prob:keep_probability})\n",
    "\n",
    "\n",
    "\"\"\"\n",
    "DON'T MODIFY ANYTHING IN THIS CELL THAT IS BELOW THIS LINE\n",
    "\"\"\"\n",
    "tests.test_train_nn(train_neural_network)"
   ]
  },
  {
   "cell_type": "markdown",
   "metadata": {
    "deletable": true,
    "editable": true
   },
   "source": [
    "### Show Stats\n",
    "Implement the function `print_stats` to print loss and validation accuracy.  Use the global variables `valid_features` and `valid_labels` to calculate validation accuracy.  Use a keep probability of `1.0` to calculate the loss and validation accuracy."
   ]
  },
  {
   "cell_type": "code",
   "execution_count": 15,
   "metadata": {
    "collapsed": true,
    "deletable": true,
    "editable": true
   },
   "outputs": [],
   "source": [
    "def print_stats(session, feature_batch, label_batch, cost, accuracy):\n",
    "    \"\"\"\n",
    "    Print information about loss and validation accuracy\n",
    "    : session: Current TensorFlow session\n",
    "    : feature_batch: Batch of Numpy image data\n",
    "    : label_batch: Batch of Numpy label data\n",
    "    : cost: TensorFlow cost function\n",
    "    : accuracy: TensorFlow accuracy function\n",
    "    \"\"\"\n",
    "    # TODO: Implement Function\n",
    "    loss = session.run(cost, feed_dict={x:feature_batch, y:label_batch, keep_prob:1.0})\n",
    "    valid_acc = sess.run(accuracy, feed_dict={x: valid_features, y: valid_labels, keep_prob: 1.})\n",
    "    print('Loss: {:>10.4f} Validation Accuracy: {:.6f}'.format(loss, valid_acc))"
   ]
  },
  {
   "cell_type": "markdown",
   "metadata": {
    "deletable": true,
    "editable": true
   },
   "source": [
    "### Hyperparameters\n",
    "Tune the following parameters:\n",
    "* Set `epochs` to the number of iterations until the network stops learning or start overfitting\n",
    "* Set `batch_size` to the highest number that your machine has memory for.  Most people set them to common sizes of memory:\n",
    " * 64\n",
    " * 128\n",
    " * 256\n",
    " * ...\n",
    "* Set `keep_probability` to the probability of keeping a node using dropout"
   ]
  },
  {
   "cell_type": "code",
   "execution_count": 32,
   "metadata": {
    "collapsed": true,
    "deletable": true,
    "editable": true
   },
   "outputs": [],
   "source": [
    "# TODO: Tune Parameters\n",
    "epochs = 100\n",
    "batch_size = 512\n",
    "keep_probability = .70"
   ]
  },
  {
   "cell_type": "markdown",
   "metadata": {
    "deletable": true,
    "editable": true
   },
   "source": [
    "### Train on a Single CIFAR-10 Batch\n",
    "Instead of training the neural network on all the CIFAR-10 batches of data, let's use a single batch. This should save time while you iterate on the model to get a better accuracy.  Once the final validation accuracy is 50% or greater, run the model on all the data in the next section."
   ]
  },
  {
   "cell_type": "code",
   "execution_count": 33,
   "metadata": {
    "collapsed": false,
    "deletable": true,
    "editable": true
   },
   "outputs": [
    {
     "name": "stdout",
     "output_type": "stream",
     "text": [
      "Checking the Training on a Single Batch...\n",
      "Epoch  1, CIFAR-10 Batch 1:  Loss:     2.1135 Validation Accuracy: 0.242000\n",
      "Epoch  2, CIFAR-10 Batch 1:  Loss:     2.0328 Validation Accuracy: 0.272200\n",
      "Epoch  3, CIFAR-10 Batch 1:  Loss:     1.9443 Validation Accuracy: 0.303000\n",
      "Epoch  4, CIFAR-10 Batch 1:  Loss:     1.8132 Validation Accuracy: 0.364600\n",
      "Epoch  5, CIFAR-10 Batch 1:  Loss:     1.7481 Validation Accuracy: 0.384600\n",
      "Epoch  6, CIFAR-10 Batch 1:  Loss:     1.6392 Validation Accuracy: 0.409000\n",
      "Epoch  7, CIFAR-10 Batch 1:  Loss:     1.5800 Validation Accuracy: 0.415200\n",
      "Epoch  8, CIFAR-10 Batch 1:  Loss:     1.5404 Validation Accuracy: 0.408400\n",
      "Epoch  9, CIFAR-10 Batch 1:  Loss:     1.4751 Validation Accuracy: 0.430800\n",
      "Epoch 10, CIFAR-10 Batch 1:  Loss:     1.4233 Validation Accuracy: 0.456400\n",
      "Epoch 11, CIFAR-10 Batch 1:  Loss:     1.4412 Validation Accuracy: 0.450200\n",
      "Epoch 12, CIFAR-10 Batch 1:  Loss:     1.3515 Validation Accuracy: 0.458600\n",
      "Epoch 13, CIFAR-10 Batch 1:  Loss:     1.3319 Validation Accuracy: 0.463200\n",
      "Epoch 14, CIFAR-10 Batch 1:  Loss:     1.2516 Validation Accuracy: 0.490800\n",
      "Epoch 15, CIFAR-10 Batch 1:  Loss:     1.2359 Validation Accuracy: 0.489400\n",
      "Epoch 16, CIFAR-10 Batch 1:  Loss:     1.2841 Validation Accuracy: 0.456200\n",
      "Epoch 17, CIFAR-10 Batch 1:  Loss:     1.1811 Validation Accuracy: 0.494200\n",
      "Epoch 18, CIFAR-10 Batch 1:  Loss:     1.1410 Validation Accuracy: 0.500200\n",
      "Epoch 19, CIFAR-10 Batch 1:  Loss:     1.1381 Validation Accuracy: 0.493400\n",
      "Epoch 20, CIFAR-10 Batch 1:  Loss:     1.1319 Validation Accuracy: 0.495200\n",
      "Epoch 21, CIFAR-10 Batch 1:  Loss:     1.0703 Validation Accuracy: 0.516000\n",
      "Epoch 22, CIFAR-10 Batch 1:  Loss:     1.0520 Validation Accuracy: 0.514600\n",
      "Epoch 23, CIFAR-10 Batch 1:  Loss:     1.0585 Validation Accuracy: 0.507800\n",
      "Epoch 24, CIFAR-10 Batch 1:  Loss:     1.0501 Validation Accuracy: 0.502800\n",
      "Epoch 25, CIFAR-10 Batch 1:  Loss:     0.9642 Validation Accuracy: 0.532200\n",
      "Epoch 26, CIFAR-10 Batch 1:  Loss:     0.9812 Validation Accuracy: 0.526000\n",
      "Epoch 27, CIFAR-10 Batch 1:  Loss:     0.9024 Validation Accuracy: 0.537400\n",
      "Epoch 28, CIFAR-10 Batch 1:  Loss:     0.8880 Validation Accuracy: 0.543200\n",
      "Epoch 29, CIFAR-10 Batch 1:  Loss:     0.8616 Validation Accuracy: 0.543800\n",
      "Epoch 30, CIFAR-10 Batch 1:  Loss:     0.8341 Validation Accuracy: 0.541200\n",
      "Epoch 31, CIFAR-10 Batch 1:  Loss:     0.8282 Validation Accuracy: 0.539600\n",
      "Epoch 32, CIFAR-10 Batch 1:  Loss:     0.7812 Validation Accuracy: 0.549000\n",
      "Epoch 33, CIFAR-10 Batch 1:  Loss:     0.7869 Validation Accuracy: 0.541600\n",
      "Epoch 34, CIFAR-10 Batch 1:  Loss:     0.7888 Validation Accuracy: 0.543400\n",
      "Epoch 35, CIFAR-10 Batch 1:  Loss:     0.7490 Validation Accuracy: 0.546800\n",
      "Epoch 36, CIFAR-10 Batch 1:  Loss:     0.8287 Validation Accuracy: 0.513800\n",
      "Epoch 37, CIFAR-10 Batch 1:  Loss:     0.7505 Validation Accuracy: 0.543000\n",
      "Epoch 38, CIFAR-10 Batch 1:  Loss:     0.7147 Validation Accuracy: 0.555000\n",
      "Epoch 39, CIFAR-10 Batch 1:  Loss:     0.6561 Validation Accuracy: 0.552400\n",
      "Epoch 40, CIFAR-10 Batch 1:  Loss:     0.6813 Validation Accuracy: 0.542600\n",
      "Epoch 41, CIFAR-10 Batch 1:  Loss:     0.6856 Validation Accuracy: 0.533000\n",
      "Epoch 42, CIFAR-10 Batch 1:  Loss:     0.6405 Validation Accuracy: 0.542000\n",
      "Epoch 43, CIFAR-10 Batch 1:  Loss:     0.5795 Validation Accuracy: 0.555000\n",
      "Epoch 44, CIFAR-10 Batch 1:  Loss:     0.5664 Validation Accuracy: 0.550200\n",
      "Epoch 45, CIFAR-10 Batch 1:  Loss:     0.5578 Validation Accuracy: 0.551200\n",
      "Epoch 46, CIFAR-10 Batch 1:  Loss:     0.5308 Validation Accuracy: 0.548000\n",
      "Epoch 47, CIFAR-10 Batch 1:  Loss:     0.5289 Validation Accuracy: 0.539800\n",
      "Epoch 48, CIFAR-10 Batch 1:  Loss:     0.5534 Validation Accuracy: 0.540600\n",
      "Epoch 49, CIFAR-10 Batch 1:  Loss:     0.6135 Validation Accuracy: 0.512200\n",
      "Epoch 50, CIFAR-10 Batch 1:  Loss:     0.5866 Validation Accuracy: 0.530200\n",
      "Epoch 51, CIFAR-10 Batch 1:  Loss:     0.5341 Validation Accuracy: 0.538600\n",
      "Epoch 52, CIFAR-10 Batch 1:  Loss:     0.4558 Validation Accuracy: 0.549000\n",
      "Epoch 53, CIFAR-10 Batch 1:  Loss:     0.5178 Validation Accuracy: 0.540800\n",
      "Epoch 54, CIFAR-10 Batch 1:  Loss:     0.4795 Validation Accuracy: 0.538600\n",
      "Epoch 55, CIFAR-10 Batch 1:  Loss:     0.5153 Validation Accuracy: 0.522800\n",
      "Epoch 56, CIFAR-10 Batch 1:  Loss:     0.4341 Validation Accuracy: 0.542000\n",
      "Epoch 57, CIFAR-10 Batch 1:  Loss:     0.3810 Validation Accuracy: 0.553000\n",
      "Epoch 58, CIFAR-10 Batch 1:  Loss:     0.4218 Validation Accuracy: 0.538000\n",
      "Epoch 59, CIFAR-10 Batch 1:  Loss:     0.3872 Validation Accuracy: 0.546400\n",
      "Epoch 60, CIFAR-10 Batch 1:  Loss:     0.3817 Validation Accuracy: 0.540000\n",
      "Epoch 61, CIFAR-10 Batch 1:  Loss:     0.3625 Validation Accuracy: 0.544600\n",
      "Epoch 62, CIFAR-10 Batch 1:  Loss:     0.3492 Validation Accuracy: 0.552400\n",
      "Epoch 63, CIFAR-10 Batch 1:  Loss:     0.2915 Validation Accuracy: 0.555200\n",
      "Epoch 64, CIFAR-10 Batch 1:  Loss:     0.2733 Validation Accuracy: 0.548000\n",
      "Epoch 65, CIFAR-10 Batch 1:  Loss:     0.2710 Validation Accuracy: 0.549800\n",
      "Epoch 66, CIFAR-10 Batch 1:  Loss:     0.3066 Validation Accuracy: 0.539200\n",
      "Epoch 67, CIFAR-10 Batch 1:  Loss:     0.3410 Validation Accuracy: 0.544200\n",
      "Epoch 68, CIFAR-10 Batch 1:  Loss:     0.2965 Validation Accuracy: 0.536600\n",
      "Epoch 69, CIFAR-10 Batch 1:  Loss:     0.2461 Validation Accuracy: 0.544800\n",
      "Epoch 70, CIFAR-10 Batch 1:  Loss:     0.2238 Validation Accuracy: 0.553600\n",
      "Epoch 71, CIFAR-10 Batch 1:  Loss:     0.2278 Validation Accuracy: 0.552800\n",
      "Epoch 72, CIFAR-10 Batch 1:  Loss:     0.2354 Validation Accuracy: 0.551200\n",
      "Epoch 73, CIFAR-10 Batch 1:  Loss:     0.2509 Validation Accuracy: 0.548600\n",
      "Epoch 74, CIFAR-10 Batch 1:  Loss:     0.2851 Validation Accuracy: 0.544400\n",
      "Epoch 75, CIFAR-10 Batch 1:  Loss:     0.2528 Validation Accuracy: 0.547800\n",
      "Epoch 76, CIFAR-10 Batch 1:  Loss:     0.2177 Validation Accuracy: 0.550000\n",
      "Epoch 77, CIFAR-10 Batch 1:  Loss:     0.1742 Validation Accuracy: 0.556800\n",
      "Epoch 78, CIFAR-10 Batch 1:  Loss:     0.1529 Validation Accuracy: 0.548000\n",
      "Epoch 79, CIFAR-10 Batch 1:  Loss:     0.1544 Validation Accuracy: 0.550600\n",
      "Epoch 80, CIFAR-10 Batch 1:  Loss:     0.1578 Validation Accuracy: 0.552600\n",
      "Epoch 81, CIFAR-10 Batch 1:  Loss:     0.1424 Validation Accuracy: 0.554400\n",
      "Epoch 82, CIFAR-10 Batch 1:  Loss:     0.1427 Validation Accuracy: 0.556800\n",
      "Epoch 83, CIFAR-10 Batch 1:  Loss:     0.1928 Validation Accuracy: 0.544400\n",
      "Epoch 84, CIFAR-10 Batch 1:  Loss:     0.2047 Validation Accuracy: 0.539200\n",
      "Epoch 85, CIFAR-10 Batch 1:  Loss:     0.2047 Validation Accuracy: 0.535800\n",
      "Epoch 86, CIFAR-10 Batch 1:  Loss:     0.1091 Validation Accuracy: 0.556000\n",
      "Epoch 87, CIFAR-10 Batch 1:  Loss:     0.1610 Validation Accuracy: 0.537400\n",
      "Epoch 88, CIFAR-10 Batch 1:  Loss:     0.1768 Validation Accuracy: 0.533600\n",
      "Epoch 89, CIFAR-10 Batch 1:  Loss:     0.2010 Validation Accuracy: 0.535200\n",
      "Epoch 90, CIFAR-10 Batch 1:  Loss:     0.1599 Validation Accuracy: 0.545600\n",
      "Epoch 91, CIFAR-10 Batch 1:  Loss:     0.1734 Validation Accuracy: 0.534000\n",
      "Epoch 92, CIFAR-10 Batch 1:  Loss:     0.2669 Validation Accuracy: 0.523800\n",
      "Epoch 93, CIFAR-10 Batch 1:  Loss:     0.2333 Validation Accuracy: 0.533800\n",
      "Epoch 94, CIFAR-10 Batch 1:  Loss:     0.2103 Validation Accuracy: 0.530600\n",
      "Epoch 95, CIFAR-10 Batch 1:  Loss:     0.1186 Validation Accuracy: 0.546600\n",
      "Epoch 96, CIFAR-10 Batch 1:  Loss:     0.1447 Validation Accuracy: 0.533600\n",
      "Epoch 97, CIFAR-10 Batch 1:  Loss:     0.1069 Validation Accuracy: 0.550400\n",
      "Epoch 98, CIFAR-10 Batch 1:  Loss:     0.1011 Validation Accuracy: 0.542800\n",
      "Epoch 99, CIFAR-10 Batch 1:  Loss:     0.1409 Validation Accuracy: 0.528600\n",
      "Epoch 100, CIFAR-10 Batch 1:  Loss:     0.1479 Validation Accuracy: 0.536200\n"
     ]
    }
   ],
   "source": [
    "\"\"\"\n",
    "DON'T MODIFY ANYTHING IN THIS CELL\n",
    "\"\"\"\n",
    "print('Checking the Training on a Single Batch...')\n",
    "with tf.Session() as sess:\n",
    "    # Initializing the variables\n",
    "    sess.run(tf.global_variables_initializer())\n",
    "    \n",
    "    # Training cycle\n",
    "    for epoch in range(epochs):\n",
    "        batch_i = 1\n",
    "        for batch_features, batch_labels in helper.load_preprocess_training_batch(batch_i, batch_size):\n",
    "            train_neural_network(sess, optimizer, keep_probability, batch_features, batch_labels)\n",
    "        print('Epoch {:>2}, CIFAR-10 Batch {}:  '.format(epoch + 1, batch_i), end='')\n",
    "        print_stats(sess, batch_features, batch_labels, cost, accuracy)"
   ]
  },
  {
   "cell_type": "markdown",
   "metadata": {
    "deletable": true,
    "editable": true
   },
   "source": [
    "### Fully Train the Model\n",
    "Now that you got a good accuracy with a single CIFAR-10 batch, try it with all five batches."
   ]
  },
  {
   "cell_type": "code",
   "execution_count": 34,
   "metadata": {
    "collapsed": false,
    "deletable": true,
    "editable": true
   },
   "outputs": [
    {
     "name": "stdout",
     "output_type": "stream",
     "text": [
      "Training...\n",
      "Epoch  1, CIFAR-10 Batch 1:  Loss:     2.1967 Validation Accuracy: 0.189000\n",
      "Epoch  1, CIFAR-10 Batch 2:  Loss:     1.9824 Validation Accuracy: 0.263800\n",
      "Epoch  1, CIFAR-10 Batch 3:  Loss:     1.8191 Validation Accuracy: 0.273400\n",
      "Epoch  1, CIFAR-10 Batch 4:  Loss:     1.7610 Validation Accuracy: 0.329600\n",
      "Epoch  1, CIFAR-10 Batch 5:  Loss:     1.7537 Validation Accuracy: 0.353400\n",
      "Epoch  2, CIFAR-10 Batch 1:  Loss:     1.8077 Validation Accuracy: 0.352400\n",
      "Epoch  2, CIFAR-10 Batch 2:  Loss:     1.6704 Validation Accuracy: 0.399600\n",
      "Epoch  2, CIFAR-10 Batch 3:  Loss:     1.4032 Validation Accuracy: 0.415000\n",
      "Epoch  2, CIFAR-10 Batch 4:  Loss:     1.4876 Validation Accuracy: 0.429400\n",
      "Epoch  2, CIFAR-10 Batch 5:  Loss:     1.5055 Validation Accuracy: 0.434400\n",
      "Epoch  3, CIFAR-10 Batch 1:  Loss:     1.5646 Validation Accuracy: 0.443400\n",
      "Epoch  3, CIFAR-10 Batch 2:  Loss:     1.4637 Validation Accuracy: 0.462400\n",
      "Epoch  3, CIFAR-10 Batch 3:  Loss:     1.2550 Validation Accuracy: 0.472400\n",
      "Epoch  3, CIFAR-10 Batch 4:  Loss:     1.3064 Validation Accuracy: 0.485600\n",
      "Epoch  3, CIFAR-10 Batch 5:  Loss:     1.3608 Validation Accuracy: 0.468000\n",
      "Epoch  4, CIFAR-10 Batch 1:  Loss:     1.3947 Validation Accuracy: 0.496200\n",
      "Epoch  4, CIFAR-10 Batch 2:  Loss:     1.2988 Validation Accuracy: 0.494200\n",
      "Epoch  4, CIFAR-10 Batch 3:  Loss:     1.1734 Validation Accuracy: 0.507000\n",
      "Epoch  4, CIFAR-10 Batch 4:  Loss:     1.1913 Validation Accuracy: 0.519800\n",
      "Epoch  4, CIFAR-10 Batch 5:  Loss:     1.2043 Validation Accuracy: 0.530200\n",
      "Epoch  5, CIFAR-10 Batch 1:  Loss:     1.2842 Validation Accuracy: 0.526800\n",
      "Epoch  5, CIFAR-10 Batch 2:  Loss:     1.2233 Validation Accuracy: 0.522600\n",
      "Epoch  5, CIFAR-10 Batch 3:  Loss:     1.0937 Validation Accuracy: 0.534000\n",
      "Epoch  5, CIFAR-10 Batch 4:  Loss:     1.1114 Validation Accuracy: 0.546000\n",
      "Epoch  5, CIFAR-10 Batch 5:  Loss:     1.1366 Validation Accuracy: 0.545200\n",
      "Epoch  6, CIFAR-10 Batch 1:  Loss:     1.1814 Validation Accuracy: 0.561200\n",
      "Epoch  6, CIFAR-10 Batch 2:  Loss:     1.1444 Validation Accuracy: 0.540200\n",
      "Epoch  6, CIFAR-10 Batch 3:  Loss:     1.0534 Validation Accuracy: 0.544800\n",
      "Epoch  6, CIFAR-10 Batch 4:  Loss:     1.0628 Validation Accuracy: 0.556000\n",
      "Epoch  6, CIFAR-10 Batch 5:  Loss:     1.0756 Validation Accuracy: 0.569000\n",
      "Epoch  7, CIFAR-10 Batch 1:  Loss:     1.1101 Validation Accuracy: 0.578200\n",
      "Epoch  7, CIFAR-10 Batch 2:  Loss:     1.0604 Validation Accuracy: 0.561000\n",
      "Epoch  7, CIFAR-10 Batch 3:  Loss:     1.0187 Validation Accuracy: 0.570200\n",
      "Epoch  7, CIFAR-10 Batch 4:  Loss:     0.9648 Validation Accuracy: 0.579000\n",
      "Epoch  7, CIFAR-10 Batch 5:  Loss:     1.0278 Validation Accuracy: 0.580400\n",
      "Epoch  8, CIFAR-10 Batch 1:  Loss:     1.0494 Validation Accuracy: 0.578600\n",
      "Epoch  8, CIFAR-10 Batch 2:  Loss:     1.0067 Validation Accuracy: 0.579800\n",
      "Epoch  8, CIFAR-10 Batch 3:  Loss:     0.9614 Validation Accuracy: 0.586400\n",
      "Epoch  8, CIFAR-10 Batch 4:  Loss:     0.9242 Validation Accuracy: 0.593600\n",
      "Epoch  8, CIFAR-10 Batch 5:  Loss:     0.9773 Validation Accuracy: 0.597000\n",
      "Epoch  9, CIFAR-10 Batch 1:  Loss:     1.0110 Validation Accuracy: 0.591600\n",
      "Epoch  9, CIFAR-10 Batch 2:  Loss:     0.9229 Validation Accuracy: 0.604200\n",
      "Epoch  9, CIFAR-10 Batch 3:  Loss:     0.9266 Validation Accuracy: 0.597600\n",
      "Epoch  9, CIFAR-10 Batch 4:  Loss:     0.8539 Validation Accuracy: 0.612600\n",
      "Epoch  9, CIFAR-10 Batch 5:  Loss:     0.9238 Validation Accuracy: 0.612400\n",
      "Epoch 10, CIFAR-10 Batch 1:  Loss:     0.9213 Validation Accuracy: 0.611200\n",
      "Epoch 10, CIFAR-10 Batch 2:  Loss:     0.8881 Validation Accuracy: 0.610000\n",
      "Epoch 10, CIFAR-10 Batch 3:  Loss:     0.8814 Validation Accuracy: 0.604400\n",
      "Epoch 10, CIFAR-10 Batch 4:  Loss:     0.8346 Validation Accuracy: 0.612000\n",
      "Epoch 10, CIFAR-10 Batch 5:  Loss:     0.8777 Validation Accuracy: 0.618800\n",
      "Epoch 11, CIFAR-10 Batch 1:  Loss:     0.8829 Validation Accuracy: 0.610600\n",
      "Epoch 11, CIFAR-10 Batch 2:  Loss:     0.8763 Validation Accuracy: 0.614600\n",
      "Epoch 11, CIFAR-10 Batch 3:  Loss:     0.8124 Validation Accuracy: 0.630200\n",
      "Epoch 11, CIFAR-10 Batch 4:  Loss:     0.7780 Validation Accuracy: 0.629000\n",
      "Epoch 11, CIFAR-10 Batch 5:  Loss:     0.8376 Validation Accuracy: 0.625000\n",
      "Epoch 12, CIFAR-10 Batch 1:  Loss:     0.8899 Validation Accuracy: 0.602800\n",
      "Epoch 12, CIFAR-10 Batch 2:  Loss:     0.8152 Validation Accuracy: 0.626000\n",
      "Epoch 12, CIFAR-10 Batch 3:  Loss:     0.7956 Validation Accuracy: 0.625400\n",
      "Epoch 12, CIFAR-10 Batch 4:  Loss:     0.7357 Validation Accuracy: 0.630600\n",
      "Epoch 12, CIFAR-10 Batch 5:  Loss:     0.8065 Validation Accuracy: 0.640400\n",
      "Epoch 13, CIFAR-10 Batch 1:  Loss:     0.8373 Validation Accuracy: 0.610400\n",
      "Epoch 13, CIFAR-10 Batch 2:  Loss:     0.7753 Validation Accuracy: 0.632400\n",
      "Epoch 13, CIFAR-10 Batch 3:  Loss:     0.8105 Validation Accuracy: 0.621200\n",
      "Epoch 13, CIFAR-10 Batch 4:  Loss:     0.7459 Validation Accuracy: 0.637600\n",
      "Epoch 13, CIFAR-10 Batch 5:  Loss:     0.7879 Validation Accuracy: 0.639200\n",
      "Epoch 14, CIFAR-10 Batch 1:  Loss:     0.8160 Validation Accuracy: 0.619800\n",
      "Epoch 14, CIFAR-10 Batch 2:  Loss:     0.8203 Validation Accuracy: 0.616400\n",
      "Epoch 14, CIFAR-10 Batch 3:  Loss:     0.7183 Validation Accuracy: 0.642000\n",
      "Epoch 14, CIFAR-10 Batch 4:  Loss:     0.6800 Validation Accuracy: 0.646600\n",
      "Epoch 14, CIFAR-10 Batch 5:  Loss:     0.7585 Validation Accuracy: 0.645000\n",
      "Epoch 15, CIFAR-10 Batch 1:  Loss:     0.7516 Validation Accuracy: 0.646400\n",
      "Epoch 15, CIFAR-10 Batch 2:  Loss:     0.7846 Validation Accuracy: 0.629000\n",
      "Epoch 15, CIFAR-10 Batch 3:  Loss:     0.7014 Validation Accuracy: 0.639000\n",
      "Epoch 15, CIFAR-10 Batch 4:  Loss:     0.6566 Validation Accuracy: 0.650800\n",
      "Epoch 15, CIFAR-10 Batch 5:  Loss:     0.7106 Validation Accuracy: 0.653600\n",
      "Epoch 16, CIFAR-10 Batch 1:  Loss:     0.7471 Validation Accuracy: 0.639600\n",
      "Epoch 16, CIFAR-10 Batch 2:  Loss:     0.7529 Validation Accuracy: 0.635200\n",
      "Epoch 16, CIFAR-10 Batch 3:  Loss:     0.6406 Validation Accuracy: 0.649600\n",
      "Epoch 16, CIFAR-10 Batch 4:  Loss:     0.6457 Validation Accuracy: 0.646000\n",
      "Epoch 16, CIFAR-10 Batch 5:  Loss:     0.7199 Validation Accuracy: 0.646400\n",
      "Epoch 17, CIFAR-10 Batch 1:  Loss:     0.7076 Validation Accuracy: 0.648200\n",
      "Epoch 17, CIFAR-10 Batch 2:  Loss:     0.7275 Validation Accuracy: 0.647600\n",
      "Epoch 17, CIFAR-10 Batch 3:  Loss:     0.6416 Validation Accuracy: 0.636000\n",
      "Epoch 17, CIFAR-10 Batch 4:  Loss:     0.6096 Validation Accuracy: 0.651600\n",
      "Epoch 17, CIFAR-10 Batch 5:  Loss:     0.6872 Validation Accuracy: 0.651000\n",
      "Epoch 18, CIFAR-10 Batch 1:  Loss:     0.6798 Validation Accuracy: 0.655000\n",
      "Epoch 18, CIFAR-10 Batch 2:  Loss:     0.6916 Validation Accuracy: 0.653800\n",
      "Epoch 18, CIFAR-10 Batch 3:  Loss:     0.6211 Validation Accuracy: 0.640000\n",
      "Epoch 18, CIFAR-10 Batch 4:  Loss:     0.5910 Validation Accuracy: 0.654800\n",
      "Epoch 18, CIFAR-10 Batch 5:  Loss:     0.6591 Validation Accuracy: 0.651400\n",
      "Epoch 19, CIFAR-10 Batch 1:  Loss:     0.6693 Validation Accuracy: 0.647400\n",
      "Epoch 19, CIFAR-10 Batch 2:  Loss:     0.6948 Validation Accuracy: 0.646600\n",
      "Epoch 19, CIFAR-10 Batch 3:  Loss:     0.5787 Validation Accuracy: 0.652000\n",
      "Epoch 19, CIFAR-10 Batch 4:  Loss:     0.5638 Validation Accuracy: 0.661200\n",
      "Epoch 19, CIFAR-10 Batch 5:  Loss:     0.6339 Validation Accuracy: 0.662800\n",
      "Epoch 20, CIFAR-10 Batch 1:  Loss:     0.6238 Validation Accuracy: 0.652600\n",
      "Epoch 20, CIFAR-10 Batch 2:  Loss:     0.6593 Validation Accuracy: 0.645800\n",
      "Epoch 20, CIFAR-10 Batch 3:  Loss:     0.5777 Validation Accuracy: 0.652000\n",
      "Epoch 20, CIFAR-10 Batch 4:  Loss:     0.5558 Validation Accuracy: 0.656000\n",
      "Epoch 20, CIFAR-10 Batch 5:  Loss:     0.6144 Validation Accuracy: 0.660400\n",
      "Epoch 21, CIFAR-10 Batch 1:  Loss:     0.6306 Validation Accuracy: 0.638400\n",
      "Epoch 21, CIFAR-10 Batch 2:  Loss:     0.6208 Validation Accuracy: 0.660200\n",
      "Epoch 21, CIFAR-10 Batch 3:  Loss:     0.5631 Validation Accuracy: 0.651600\n",
      "Epoch 21, CIFAR-10 Batch 4:  Loss:     0.5298 Validation Accuracy: 0.666600\n",
      "Epoch 21, CIFAR-10 Batch 5:  Loss:     0.5794 Validation Accuracy: 0.667000\n",
      "Epoch 22, CIFAR-10 Batch 1:  Loss:     0.6200 Validation Accuracy: 0.645600\n",
      "Epoch 22, CIFAR-10 Batch 2:  Loss:     0.6213 Validation Accuracy: 0.654600\n",
      "Epoch 22, CIFAR-10 Batch 3:  Loss:     0.5562 Validation Accuracy: 0.650400\n",
      "Epoch 22, CIFAR-10 Batch 4:  Loss:     0.5120 Validation Accuracy: 0.673400\n",
      "Epoch 22, CIFAR-10 Batch 5:  Loss:     0.5648 Validation Accuracy: 0.667800\n",
      "Epoch 23, CIFAR-10 Batch 1:  Loss:     0.6009 Validation Accuracy: 0.658600\n",
      "Epoch 23, CIFAR-10 Batch 2:  Loss:     0.5891 Validation Accuracy: 0.658800\n",
      "Epoch 23, CIFAR-10 Batch 3:  Loss:     0.5149 Validation Accuracy: 0.661400\n",
      "Epoch 23, CIFAR-10 Batch 4:  Loss:     0.5053 Validation Accuracy: 0.665800\n",
      "Epoch 23, CIFAR-10 Batch 5:  Loss:     0.5731 Validation Accuracy: 0.649000\n",
      "Epoch 24, CIFAR-10 Batch 1:  Loss:     0.5723 Validation Accuracy: 0.660000\n",
      "Epoch 24, CIFAR-10 Batch 2:  Loss:     0.6466 Validation Accuracy: 0.639600\n",
      "Epoch 24, CIFAR-10 Batch 3:  Loss:     0.5338 Validation Accuracy: 0.657600\n",
      "Epoch 24, CIFAR-10 Batch 4:  Loss:     0.4981 Validation Accuracy: 0.669000\n",
      "Epoch 24, CIFAR-10 Batch 5:  Loss:     0.5262 Validation Accuracy: 0.661200\n",
      "Epoch 25, CIFAR-10 Batch 1:  Loss:     0.5727 Validation Accuracy: 0.662200\n",
      "Epoch 25, CIFAR-10 Batch 2:  Loss:     0.6166 Validation Accuracy: 0.646600\n",
      "Epoch 25, CIFAR-10 Batch 3:  Loss:     0.5624 Validation Accuracy: 0.658000\n",
      "Epoch 25, CIFAR-10 Batch 4:  Loss:     0.4846 Validation Accuracy: 0.670800\n",
      "Epoch 25, CIFAR-10 Batch 5:  Loss:     0.5256 Validation Accuracy: 0.657000\n",
      "Epoch 26, CIFAR-10 Batch 1:  Loss:     0.6686 Validation Accuracy: 0.637600\n",
      "Epoch 26, CIFAR-10 Batch 2:  Loss:     0.6399 Validation Accuracy: 0.648200\n",
      "Epoch 26, CIFAR-10 Batch 3:  Loss:     0.5271 Validation Accuracy: 0.656200\n",
      "Epoch 26, CIFAR-10 Batch 4:  Loss:     0.4599 Validation Accuracy: 0.673000\n",
      "Epoch 26, CIFAR-10 Batch 5:  Loss:     0.4861 Validation Accuracy: 0.666000\n",
      "Epoch 27, CIFAR-10 Batch 1:  Loss:     0.5936 Validation Accuracy: 0.656200\n",
      "Epoch 27, CIFAR-10 Batch 2:  Loss:     0.5381 Validation Accuracy: 0.665000\n",
      "Epoch 27, CIFAR-10 Batch 3:  Loss:     0.4499 Validation Accuracy: 0.670800\n",
      "Epoch 27, CIFAR-10 Batch 4:  Loss:     0.4320 Validation Accuracy: 0.676000\n",
      "Epoch 27, CIFAR-10 Batch 5:  Loss:     0.4947 Validation Accuracy: 0.676000\n",
      "Epoch 28, CIFAR-10 Batch 1:  Loss:     0.5330 Validation Accuracy: 0.662600\n",
      "Epoch 28, CIFAR-10 Batch 2:  Loss:     0.5217 Validation Accuracy: 0.664000\n",
      "Epoch 28, CIFAR-10 Batch 3:  Loss:     0.4614 Validation Accuracy: 0.671200\n",
      "Epoch 28, CIFAR-10 Batch 4:  Loss:     0.4245 Validation Accuracy: 0.677000\n",
      "Epoch 28, CIFAR-10 Batch 5:  Loss:     0.4748 Validation Accuracy: 0.672200\n",
      "Epoch 29, CIFAR-10 Batch 1:  Loss:     0.5553 Validation Accuracy: 0.663800\n",
      "Epoch 29, CIFAR-10 Batch 2:  Loss:     0.5134 Validation Accuracy: 0.663400\n",
      "Epoch 29, CIFAR-10 Batch 3:  Loss:     0.4471 Validation Accuracy: 0.666800\n",
      "Epoch 29, CIFAR-10 Batch 4:  Loss:     0.4005 Validation Accuracy: 0.679400\n",
      "Epoch 29, CIFAR-10 Batch 5:  Loss:     0.4523 Validation Accuracy: 0.675600\n",
      "Epoch 30, CIFAR-10 Batch 1:  Loss:     0.5052 Validation Accuracy: 0.680800\n",
      "Epoch 30, CIFAR-10 Batch 2:  Loss:     0.5009 Validation Accuracy: 0.673200\n",
      "Epoch 30, CIFAR-10 Batch 3:  Loss:     0.4294 Validation Accuracy: 0.661200\n",
      "Epoch 30, CIFAR-10 Batch 4:  Loss:     0.4072 Validation Accuracy: 0.674800\n",
      "Epoch 30, CIFAR-10 Batch 5:  Loss:     0.4438 Validation Accuracy: 0.672400\n",
      "Epoch 31, CIFAR-10 Batch 1:  Loss:     0.5004 Validation Accuracy: 0.679400\n",
      "Epoch 31, CIFAR-10 Batch 2:  Loss:     0.4443 Validation Accuracy: 0.678400\n",
      "Epoch 31, CIFAR-10 Batch 3:  Loss:     0.3888 Validation Accuracy: 0.671600\n",
      "Epoch 31, CIFAR-10 Batch 4:  Loss:     0.3712 Validation Accuracy: 0.680400\n",
      "Epoch 31, CIFAR-10 Batch 5:  Loss:     0.4015 Validation Accuracy: 0.679400\n",
      "Epoch 32, CIFAR-10 Batch 1:  Loss:     0.4558 Validation Accuracy: 0.672200\n",
      "Epoch 32, CIFAR-10 Batch 2:  Loss:     0.4376 Validation Accuracy: 0.676000\n",
      "Epoch 32, CIFAR-10 Batch 3:  Loss:     0.3708 Validation Accuracy: 0.669600\n",
      "Epoch 32, CIFAR-10 Batch 4:  Loss:     0.3688 Validation Accuracy: 0.669200\n",
      "Epoch 32, CIFAR-10 Batch 5:  Loss:     0.3903 Validation Accuracy: 0.681600\n",
      "Epoch 33, CIFAR-10 Batch 1:  Loss:     0.4647 Validation Accuracy: 0.675200\n",
      "Epoch 33, CIFAR-10 Batch 2:  Loss:     0.4210 Validation Accuracy: 0.676600\n",
      "Epoch 33, CIFAR-10 Batch 3:  Loss:     0.3708 Validation Accuracy: 0.669000\n",
      "Epoch 33, CIFAR-10 Batch 4:  Loss:     0.3557 Validation Accuracy: 0.675600\n",
      "Epoch 33, CIFAR-10 Batch 5:  Loss:     0.3784 Validation Accuracy: 0.677200\n",
      "Epoch 34, CIFAR-10 Batch 1:  Loss:     0.4484 Validation Accuracy: 0.669800\n",
      "Epoch 34, CIFAR-10 Batch 2:  Loss:     0.4170 Validation Accuracy: 0.666400\n",
      "Epoch 34, CIFAR-10 Batch 3:  Loss:     0.3436 Validation Accuracy: 0.671600\n",
      "Epoch 34, CIFAR-10 Batch 4:  Loss:     0.3367 Validation Accuracy: 0.678000\n",
      "Epoch 34, CIFAR-10 Batch 5:  Loss:     0.3611 Validation Accuracy: 0.676000\n",
      "Epoch 35, CIFAR-10 Batch 1:  Loss:     0.4308 Validation Accuracy: 0.673800\n",
      "Epoch 35, CIFAR-10 Batch 2:  Loss:     0.4082 Validation Accuracy: 0.671200\n",
      "Epoch 35, CIFAR-10 Batch 3:  Loss:     0.3505 Validation Accuracy: 0.674000\n",
      "Epoch 35, CIFAR-10 Batch 4:  Loss:     0.3233 Validation Accuracy: 0.683800\n",
      "Epoch 35, CIFAR-10 Batch 5:  Loss:     0.3491 Validation Accuracy: 0.672600\n",
      "Epoch 36, CIFAR-10 Batch 1:  Loss:     0.4018 Validation Accuracy: 0.684000\n",
      "Epoch 36, CIFAR-10 Batch 2:  Loss:     0.3891 Validation Accuracy: 0.680200\n",
      "Epoch 36, CIFAR-10 Batch 3:  Loss:     0.3592 Validation Accuracy: 0.663000\n",
      "Epoch 36, CIFAR-10 Batch 4:  Loss:     0.3448 Validation Accuracy: 0.681400\n",
      "Epoch 36, CIFAR-10 Batch 5:  Loss:     0.3449 Validation Accuracy: 0.674400\n",
      "Epoch 37, CIFAR-10 Batch 1:  Loss:     0.3910 Validation Accuracy: 0.683400\n",
      "Epoch 37, CIFAR-10 Batch 2:  Loss:     0.3901 Validation Accuracy: 0.670600\n",
      "Epoch 37, CIFAR-10 Batch 3:  Loss:     0.3307 Validation Accuracy: 0.669400\n",
      "Epoch 37, CIFAR-10 Batch 4:  Loss:     0.3579 Validation Accuracy: 0.676600\n",
      "Epoch 37, CIFAR-10 Batch 5:  Loss:     0.3642 Validation Accuracy: 0.675800\n",
      "Epoch 38, CIFAR-10 Batch 1:  Loss:     0.3655 Validation Accuracy: 0.681400\n",
      "Epoch 38, CIFAR-10 Batch 2:  Loss:     0.4062 Validation Accuracy: 0.666000\n",
      "Epoch 38, CIFAR-10 Batch 3:  Loss:     0.3464 Validation Accuracy: 0.663400\n",
      "Epoch 38, CIFAR-10 Batch 4:  Loss:     0.3384 Validation Accuracy: 0.683200\n",
      "Epoch 38, CIFAR-10 Batch 5:  Loss:     0.3427 Validation Accuracy: 0.681800\n",
      "Epoch 39, CIFAR-10 Batch 1:  Loss:     0.3819 Validation Accuracy: 0.674400\n",
      "Epoch 39, CIFAR-10 Batch 2:  Loss:     0.3862 Validation Accuracy: 0.670400\n",
      "Epoch 39, CIFAR-10 Batch 3:  Loss:     0.3285 Validation Accuracy: 0.667600\n",
      "Epoch 39, CIFAR-10 Batch 4:  Loss:     0.3187 Validation Accuracy: 0.683000\n",
      "Epoch 39, CIFAR-10 Batch 5:  Loss:     0.3571 Validation Accuracy: 0.686200\n",
      "Epoch 40, CIFAR-10 Batch 1:  Loss:     0.4057 Validation Accuracy: 0.666000\n",
      "Epoch 40, CIFAR-10 Batch 2:  Loss:     0.4114 Validation Accuracy: 0.673800\n",
      "Epoch 40, CIFAR-10 Batch 3:  Loss:     0.3251 Validation Accuracy: 0.661400\n",
      "Epoch 40, CIFAR-10 Batch 4:  Loss:     0.3401 Validation Accuracy: 0.674600\n",
      "Epoch 40, CIFAR-10 Batch 5:  Loss:     0.3472 Validation Accuracy: 0.672400\n",
      "Epoch 41, CIFAR-10 Batch 1:  Loss:     0.3935 Validation Accuracy: 0.672400\n",
      "Epoch 41, CIFAR-10 Batch 2:  Loss:     0.4193 Validation Accuracy: 0.659000\n",
      "Epoch 41, CIFAR-10 Batch 3:  Loss:     0.2999 Validation Accuracy: 0.670600\n",
      "Epoch 41, CIFAR-10 Batch 4:  Loss:     0.3230 Validation Accuracy: 0.672600\n",
      "Epoch 41, CIFAR-10 Batch 5:  Loss:     0.3844 Validation Accuracy: 0.662400\n",
      "Epoch 42, CIFAR-10 Batch 1:  Loss:     0.3685 Validation Accuracy: 0.682800\n",
      "Epoch 42, CIFAR-10 Batch 2:  Loss:     0.4037 Validation Accuracy: 0.657200\n",
      "Epoch 42, CIFAR-10 Batch 3:  Loss:     0.2711 Validation Accuracy: 0.680800\n",
      "Epoch 42, CIFAR-10 Batch 4:  Loss:     0.3333 Validation Accuracy: 0.665000\n",
      "Epoch 42, CIFAR-10 Batch 5:  Loss:     0.3834 Validation Accuracy: 0.662400\n",
      "Epoch 43, CIFAR-10 Batch 1:  Loss:     0.3639 Validation Accuracy: 0.674800\n",
      "Epoch 43, CIFAR-10 Batch 2:  Loss:     0.3580 Validation Accuracy: 0.678000\n",
      "Epoch 43, CIFAR-10 Batch 3:  Loss:     0.2677 Validation Accuracy: 0.676800\n",
      "Epoch 43, CIFAR-10 Batch 4:  Loss:     0.3395 Validation Accuracy: 0.665200\n",
      "Epoch 43, CIFAR-10 Batch 5:  Loss:     0.3626 Validation Accuracy: 0.660200\n",
      "Epoch 44, CIFAR-10 Batch 1:  Loss:     0.3588 Validation Accuracy: 0.676600\n",
      "Epoch 44, CIFAR-10 Batch 2:  Loss:     0.3430 Validation Accuracy: 0.670400\n",
      "Epoch 44, CIFAR-10 Batch 3:  Loss:     0.2588 Validation Accuracy: 0.682000\n",
      "Epoch 44, CIFAR-10 Batch 4:  Loss:     0.3046 Validation Accuracy: 0.668200\n",
      "Epoch 44, CIFAR-10 Batch 5:  Loss:     0.3701 Validation Accuracy: 0.664400\n",
      "Epoch 45, CIFAR-10 Batch 1:  Loss:     0.3927 Validation Accuracy: 0.664200\n",
      "Epoch 45, CIFAR-10 Batch 2:  Loss:     0.3402 Validation Accuracy: 0.669200\n",
      "Epoch 45, CIFAR-10 Batch 3:  Loss:     0.2658 Validation Accuracy: 0.682600\n",
      "Epoch 45, CIFAR-10 Batch 4:  Loss:     0.3097 Validation Accuracy: 0.666800\n",
      "Epoch 45, CIFAR-10 Batch 5:  Loss:     0.3247 Validation Accuracy: 0.669000\n",
      "Epoch 46, CIFAR-10 Batch 1:  Loss:     0.3922 Validation Accuracy: 0.661200\n",
      "Epoch 46, CIFAR-10 Batch 2:  Loss:     0.3536 Validation Accuracy: 0.669000\n",
      "Epoch 46, CIFAR-10 Batch 3:  Loss:     0.2738 Validation Accuracy: 0.685200\n",
      "Epoch 46, CIFAR-10 Batch 4:  Loss:     0.2945 Validation Accuracy: 0.669200\n",
      "Epoch 46, CIFAR-10 Batch 5:  Loss:     0.3023 Validation Accuracy: 0.673800\n",
      "Epoch 47, CIFAR-10 Batch 1:  Loss:     0.3648 Validation Accuracy: 0.661000\n",
      "Epoch 47, CIFAR-10 Batch 2:  Loss:     0.3322 Validation Accuracy: 0.663000\n",
      "Epoch 47, CIFAR-10 Batch 3:  Loss:     0.2712 Validation Accuracy: 0.686600\n",
      "Epoch 47, CIFAR-10 Batch 4:  Loss:     0.2676 Validation Accuracy: 0.673000\n",
      "Epoch 47, CIFAR-10 Batch 5:  Loss:     0.2925 Validation Accuracy: 0.669400\n",
      "Epoch 48, CIFAR-10 Batch 1:  Loss:     0.3727 Validation Accuracy: 0.649200\n",
      "Epoch 48, CIFAR-10 Batch 2:  Loss:     0.3238 Validation Accuracy: 0.673000\n",
      "Epoch 48, CIFAR-10 Batch 3:  Loss:     0.2541 Validation Accuracy: 0.680800\n",
      "Epoch 48, CIFAR-10 Batch 4:  Loss:     0.2617 Validation Accuracy: 0.669600\n",
      "Epoch 48, CIFAR-10 Batch 5:  Loss:     0.2847 Validation Accuracy: 0.669800\n",
      "Epoch 49, CIFAR-10 Batch 1:  Loss:     0.3189 Validation Accuracy: 0.666600\n",
      "Epoch 49, CIFAR-10 Batch 2:  Loss:     0.3309 Validation Accuracy: 0.667400\n",
      "Epoch 49, CIFAR-10 Batch 3:  Loss:     0.2582 Validation Accuracy: 0.681600\n",
      "Epoch 49, CIFAR-10 Batch 4:  Loss:     0.2342 Validation Accuracy: 0.677000\n",
      "Epoch 49, CIFAR-10 Batch 5:  Loss:     0.3063 Validation Accuracy: 0.660400\n",
      "Epoch 50, CIFAR-10 Batch 1:  Loss:     0.3114 Validation Accuracy: 0.664600\n",
      "Epoch 50, CIFAR-10 Batch 2:  Loss:     0.3905 Validation Accuracy: 0.654400\n",
      "Epoch 50, CIFAR-10 Batch 3:  Loss:     0.2669 Validation Accuracy: 0.684200\n",
      "Epoch 50, CIFAR-10 Batch 4:  Loss:     0.2473 Validation Accuracy: 0.672800\n",
      "Epoch 50, CIFAR-10 Batch 5:  Loss:     0.3061 Validation Accuracy: 0.663600\n",
      "Epoch 51, CIFAR-10 Batch 1:  Loss:     0.2974 Validation Accuracy: 0.674200\n",
      "Epoch 51, CIFAR-10 Batch 2:  Loss:     0.3349 Validation Accuracy: 0.666400\n",
      "Epoch 51, CIFAR-10 Batch 3:  Loss:     0.2608 Validation Accuracy: 0.680200\n",
      "Epoch 51, CIFAR-10 Batch 4:  Loss:     0.2429 Validation Accuracy: 0.674000\n",
      "Epoch 51, CIFAR-10 Batch 5:  Loss:     0.2870 Validation Accuracy: 0.658200\n",
      "Epoch 52, CIFAR-10 Batch 1:  Loss:     0.2868 Validation Accuracy: 0.669800\n",
      "Epoch 52, CIFAR-10 Batch 2:  Loss:     0.2990 Validation Accuracy: 0.667400\n",
      "Epoch 52, CIFAR-10 Batch 3:  Loss:     0.2763 Validation Accuracy: 0.676000\n",
      "Epoch 52, CIFAR-10 Batch 4:  Loss:     0.2912 Validation Accuracy: 0.659800\n",
      "Epoch 52, CIFAR-10 Batch 5:  Loss:     0.2732 Validation Accuracy: 0.670800\n",
      "Epoch 53, CIFAR-10 Batch 1:  Loss:     0.2764 Validation Accuracy: 0.683000\n",
      "Epoch 53, CIFAR-10 Batch 2:  Loss:     0.2955 Validation Accuracy: 0.671800\n",
      "Epoch 53, CIFAR-10 Batch 3:  Loss:     0.2225 Validation Accuracy: 0.685400\n",
      "Epoch 53, CIFAR-10 Batch 4:  Loss:     0.2755 Validation Accuracy: 0.654000\n",
      "Epoch 53, CIFAR-10 Batch 5:  Loss:     0.2928 Validation Accuracy: 0.671600\n",
      "Epoch 54, CIFAR-10 Batch 1:  Loss:     0.2574 Validation Accuracy: 0.681400\n",
      "Epoch 54, CIFAR-10 Batch 2:  Loss:     0.2733 Validation Accuracy: 0.676800\n",
      "Epoch 54, CIFAR-10 Batch 3:  Loss:     0.2225 Validation Accuracy: 0.674800\n",
      "Epoch 54, CIFAR-10 Batch 4:  Loss:     0.2647 Validation Accuracy: 0.670200\n",
      "Epoch 54, CIFAR-10 Batch 5:  Loss:     0.2801 Validation Accuracy: 0.664000\n",
      "Epoch 55, CIFAR-10 Batch 1:  Loss:     0.2486 Validation Accuracy: 0.681000\n",
      "Epoch 55, CIFAR-10 Batch 2:  Loss:     0.2632 Validation Accuracy: 0.675400\n",
      "Epoch 55, CIFAR-10 Batch 3:  Loss:     0.2085 Validation Accuracy: 0.681000\n",
      "Epoch 55, CIFAR-10 Batch 4:  Loss:     0.3067 Validation Accuracy: 0.653400\n",
      "Epoch 55, CIFAR-10 Batch 5:  Loss:     0.2822 Validation Accuracy: 0.670600\n",
      "Epoch 56, CIFAR-10 Batch 1:  Loss:     0.2459 Validation Accuracy: 0.678800\n",
      "Epoch 56, CIFAR-10 Batch 2:  Loss:     0.2441 Validation Accuracy: 0.670800\n",
      "Epoch 56, CIFAR-10 Batch 3:  Loss:     0.2011 Validation Accuracy: 0.684000\n",
      "Epoch 56, CIFAR-10 Batch 4:  Loss:     0.2934 Validation Accuracy: 0.650800\n",
      "Epoch 56, CIFAR-10 Batch 5:  Loss:     0.3249 Validation Accuracy: 0.659400\n",
      "Epoch 57, CIFAR-10 Batch 1:  Loss:     0.2313 Validation Accuracy: 0.683600\n",
      "Epoch 57, CIFAR-10 Batch 2:  Loss:     0.2245 Validation Accuracy: 0.679000\n",
      "Epoch 57, CIFAR-10 Batch 3:  Loss:     0.2006 Validation Accuracy: 0.684400\n",
      "Epoch 57, CIFAR-10 Batch 4:  Loss:     0.2924 Validation Accuracy: 0.641200\n",
      "Epoch 57, CIFAR-10 Batch 5:  Loss:     0.2842 Validation Accuracy: 0.665200\n",
      "Epoch 58, CIFAR-10 Batch 1:  Loss:     0.2371 Validation Accuracy: 0.683400\n",
      "Epoch 58, CIFAR-10 Batch 2:  Loss:     0.2138 Validation Accuracy: 0.678600\n",
      "Epoch 58, CIFAR-10 Batch 3:  Loss:     0.2158 Validation Accuracy: 0.678600\n",
      "Epoch 58, CIFAR-10 Batch 4:  Loss:     0.2455 Validation Accuracy: 0.651800\n",
      "Epoch 58, CIFAR-10 Batch 5:  Loss:     0.2839 Validation Accuracy: 0.668000\n",
      "Epoch 59, CIFAR-10 Batch 1:  Loss:     0.2316 Validation Accuracy: 0.672400\n",
      "Epoch 59, CIFAR-10 Batch 2:  Loss:     0.2199 Validation Accuracy: 0.681400\n",
      "Epoch 59, CIFAR-10 Batch 3:  Loss:     0.2003 Validation Accuracy: 0.679200\n",
      "Epoch 59, CIFAR-10 Batch 4:  Loss:     0.2310 Validation Accuracy: 0.653600\n",
      "Epoch 59, CIFAR-10 Batch 5:  Loss:     0.2473 Validation Accuracy: 0.674800\n",
      "Epoch 60, CIFAR-10 Batch 1:  Loss:     0.2261 Validation Accuracy: 0.660400\n",
      "Epoch 60, CIFAR-10 Batch 2:  Loss:     0.2224 Validation Accuracy: 0.676200\n",
      "Epoch 60, CIFAR-10 Batch 3:  Loss:     0.2022 Validation Accuracy: 0.678800\n",
      "Epoch 60, CIFAR-10 Batch 4:  Loss:     0.2301 Validation Accuracy: 0.654000\n",
      "Epoch 60, CIFAR-10 Batch 5:  Loss:     0.2274 Validation Accuracy: 0.676000\n",
      "Epoch 61, CIFAR-10 Batch 1:  Loss:     0.2070 Validation Accuracy: 0.666800\n",
      "Epoch 61, CIFAR-10 Batch 2:  Loss:     0.2105 Validation Accuracy: 0.676800\n",
      "Epoch 61, CIFAR-10 Batch 3:  Loss:     0.1904 Validation Accuracy: 0.683000\n",
      "Epoch 61, CIFAR-10 Batch 4:  Loss:     0.2182 Validation Accuracy: 0.676000\n",
      "Epoch 61, CIFAR-10 Batch 5:  Loss:     0.2407 Validation Accuracy: 0.673600\n",
      "Epoch 62, CIFAR-10 Batch 1:  Loss:     0.1888 Validation Accuracy: 0.671400\n",
      "Epoch 62, CIFAR-10 Batch 2:  Loss:     0.2163 Validation Accuracy: 0.667000\n",
      "Epoch 62, CIFAR-10 Batch 3:  Loss:     0.2380 Validation Accuracy: 0.665400\n",
      "Epoch 62, CIFAR-10 Batch 4:  Loss:     0.2368 Validation Accuracy: 0.657200\n",
      "Epoch 62, CIFAR-10 Batch 5:  Loss:     0.2136 Validation Accuracy: 0.678600\n",
      "Epoch 63, CIFAR-10 Batch 1:  Loss:     0.2028 Validation Accuracy: 0.665200\n",
      "Epoch 63, CIFAR-10 Batch 2:  Loss:     0.2499 Validation Accuracy: 0.659800\n",
      "Epoch 63, CIFAR-10 Batch 3:  Loss:     0.2288 Validation Accuracy: 0.666800\n",
      "Epoch 63, CIFAR-10 Batch 4:  Loss:     0.2162 Validation Accuracy: 0.671400\n",
      "Epoch 63, CIFAR-10 Batch 5:  Loss:     0.2154 Validation Accuracy: 0.679000\n",
      "Epoch 64, CIFAR-10 Batch 1:  Loss:     0.1730 Validation Accuracy: 0.676800\n",
      "Epoch 64, CIFAR-10 Batch 2:  Loss:     0.2432 Validation Accuracy: 0.657000\n",
      "Epoch 64, CIFAR-10 Batch 3:  Loss:     0.2019 Validation Accuracy: 0.677200\n",
      "Epoch 64, CIFAR-10 Batch 4:  Loss:     0.2060 Validation Accuracy: 0.675000\n",
      "Epoch 64, CIFAR-10 Batch 5:  Loss:     0.2338 Validation Accuracy: 0.672000\n",
      "Epoch 65, CIFAR-10 Batch 1:  Loss:     0.2049 Validation Accuracy: 0.663600\n",
      "Epoch 65, CIFAR-10 Batch 2:  Loss:     0.2268 Validation Accuracy: 0.657600\n",
      "Epoch 65, CIFAR-10 Batch 3:  Loss:     0.1864 Validation Accuracy: 0.685600\n",
      "Epoch 65, CIFAR-10 Batch 4:  Loss:     0.1837 Validation Accuracy: 0.683600\n",
      "Epoch 65, CIFAR-10 Batch 5:  Loss:     0.2007 Validation Accuracy: 0.678200\n",
      "Epoch 66, CIFAR-10 Batch 1:  Loss:     0.1757 Validation Accuracy: 0.678000\n",
      "Epoch 66, CIFAR-10 Batch 2:  Loss:     0.2065 Validation Accuracy: 0.674200\n",
      "Epoch 66, CIFAR-10 Batch 3:  Loss:     0.1697 Validation Accuracy: 0.687000\n",
      "Epoch 66, CIFAR-10 Batch 4:  Loss:     0.1944 Validation Accuracy: 0.684200\n",
      "Epoch 66, CIFAR-10 Batch 5:  Loss:     0.1956 Validation Accuracy: 0.679000\n",
      "Epoch 67, CIFAR-10 Batch 1:  Loss:     0.1735 Validation Accuracy: 0.668200\n",
      "Epoch 67, CIFAR-10 Batch 2:  Loss:     0.1993 Validation Accuracy: 0.676800\n",
      "Epoch 67, CIFAR-10 Batch 3:  Loss:     0.1885 Validation Accuracy: 0.679400\n",
      "Epoch 67, CIFAR-10 Batch 4:  Loss:     0.1896 Validation Accuracy: 0.680400\n",
      "Epoch 67, CIFAR-10 Batch 5:  Loss:     0.1873 Validation Accuracy: 0.679800\n",
      "Epoch 68, CIFAR-10 Batch 1:  Loss:     0.1721 Validation Accuracy: 0.674200\n",
      "Epoch 68, CIFAR-10 Batch 2:  Loss:     0.1753 Validation Accuracy: 0.667000\n",
      "Epoch 68, CIFAR-10 Batch 3:  Loss:     0.1638 Validation Accuracy: 0.685400\n",
      "Epoch 68, CIFAR-10 Batch 4:  Loss:     0.1832 Validation Accuracy: 0.673600\n",
      "Epoch 68, CIFAR-10 Batch 5:  Loss:     0.1727 Validation Accuracy: 0.676400\n",
      "Epoch 69, CIFAR-10 Batch 1:  Loss:     0.1621 Validation Accuracy: 0.679800\n",
      "Epoch 69, CIFAR-10 Batch 2:  Loss:     0.1555 Validation Accuracy: 0.673400\n",
      "Epoch 69, CIFAR-10 Batch 3:  Loss:     0.1673 Validation Accuracy: 0.684400\n",
      "Epoch 69, CIFAR-10 Batch 4:  Loss:     0.2084 Validation Accuracy: 0.662000\n",
      "Epoch 69, CIFAR-10 Batch 5:  Loss:     0.1661 Validation Accuracy: 0.677600\n",
      "Epoch 70, CIFAR-10 Batch 1:  Loss:     0.1650 Validation Accuracy: 0.686000\n",
      "Epoch 70, CIFAR-10 Batch 2:  Loss:     0.1652 Validation Accuracy: 0.674000\n",
      "Epoch 70, CIFAR-10 Batch 3:  Loss:     0.1561 Validation Accuracy: 0.679200\n",
      "Epoch 70, CIFAR-10 Batch 4:  Loss:     0.2389 Validation Accuracy: 0.649800\n",
      "Epoch 70, CIFAR-10 Batch 5:  Loss:     0.1633 Validation Accuracy: 0.677400\n",
      "Epoch 71, CIFAR-10 Batch 1:  Loss:     0.1884 Validation Accuracy: 0.673200\n",
      "Epoch 71, CIFAR-10 Batch 2:  Loss:     0.1753 Validation Accuracy: 0.660600\n",
      "Epoch 71, CIFAR-10 Batch 3:  Loss:     0.1680 Validation Accuracy: 0.671600\n",
      "Epoch 71, CIFAR-10 Batch 4:  Loss:     0.2181 Validation Accuracy: 0.655600\n",
      "Epoch 71, CIFAR-10 Batch 5:  Loss:     0.1496 Validation Accuracy: 0.680000\n",
      "Epoch 72, CIFAR-10 Batch 1:  Loss:     0.1771 Validation Accuracy: 0.675400\n",
      "Epoch 72, CIFAR-10 Batch 2:  Loss:     0.1732 Validation Accuracy: 0.657400\n",
      "Epoch 72, CIFAR-10 Batch 3:  Loss:     0.1532 Validation Accuracy: 0.683000\n",
      "Epoch 72, CIFAR-10 Batch 4:  Loss:     0.2037 Validation Accuracy: 0.658600\n",
      "Epoch 72, CIFAR-10 Batch 5:  Loss:     0.1460 Validation Accuracy: 0.683600\n",
      "Epoch 73, CIFAR-10 Batch 1:  Loss:     0.1472 Validation Accuracy: 0.676400\n",
      "Epoch 73, CIFAR-10 Batch 2:  Loss:     0.1550 Validation Accuracy: 0.659600\n",
      "Epoch 73, CIFAR-10 Batch 3:  Loss:     0.1493 Validation Accuracy: 0.676000\n",
      "Epoch 73, CIFAR-10 Batch 4:  Loss:     0.1995 Validation Accuracy: 0.662200\n",
      "Epoch 73, CIFAR-10 Batch 5:  Loss:     0.1269 Validation Accuracy: 0.676800\n",
      "Epoch 74, CIFAR-10 Batch 1:  Loss:     0.1444 Validation Accuracy: 0.677200\n",
      "Epoch 74, CIFAR-10 Batch 2:  Loss:     0.1480 Validation Accuracy: 0.658000\n",
      "Epoch 74, CIFAR-10 Batch 3:  Loss:     0.1211 Validation Accuracy: 0.676800\n",
      "Epoch 74, CIFAR-10 Batch 4:  Loss:     0.2007 Validation Accuracy: 0.652800\n",
      "Epoch 74, CIFAR-10 Batch 5:  Loss:     0.1389 Validation Accuracy: 0.676400\n",
      "Epoch 75, CIFAR-10 Batch 1:  Loss:     0.1361 Validation Accuracy: 0.679600\n",
      "Epoch 75, CIFAR-10 Batch 2:  Loss:     0.1363 Validation Accuracy: 0.660200\n",
      "Epoch 75, CIFAR-10 Batch 3:  Loss:     0.1299 Validation Accuracy: 0.678600\n",
      "Epoch 75, CIFAR-10 Batch 4:  Loss:     0.1734 Validation Accuracy: 0.662600\n",
      "Epoch 75, CIFAR-10 Batch 5:  Loss:     0.1522 Validation Accuracy: 0.675800\n",
      "Epoch 76, CIFAR-10 Batch 1:  Loss:     0.1222 Validation Accuracy: 0.684200\n",
      "Epoch 76, CIFAR-10 Batch 2:  Loss:     0.1129 Validation Accuracy: 0.666000\n",
      "Epoch 76, CIFAR-10 Batch 3:  Loss:     0.1359 Validation Accuracy: 0.675000\n",
      "Epoch 76, CIFAR-10 Batch 4:  Loss:     0.1648 Validation Accuracy: 0.669800\n",
      "Epoch 76, CIFAR-10 Batch 5:  Loss:     0.1453 Validation Accuracy: 0.675000\n",
      "Epoch 77, CIFAR-10 Batch 1:  Loss:     0.1171 Validation Accuracy: 0.682800\n",
      "Epoch 77, CIFAR-10 Batch 2:  Loss:     0.1138 Validation Accuracy: 0.670400\n",
      "Epoch 77, CIFAR-10 Batch 3:  Loss:     0.1276 Validation Accuracy: 0.674600\n",
      "Epoch 77, CIFAR-10 Batch 4:  Loss:     0.1770 Validation Accuracy: 0.661800\n",
      "Epoch 77, CIFAR-10 Batch 5:  Loss:     0.1473 Validation Accuracy: 0.670800\n",
      "Epoch 78, CIFAR-10 Batch 1:  Loss:     0.1085 Validation Accuracy: 0.678800\n",
      "Epoch 78, CIFAR-10 Batch 2:  Loss:     0.0939 Validation Accuracy: 0.680000\n",
      "Epoch 78, CIFAR-10 Batch 3:  Loss:     0.1100 Validation Accuracy: 0.669000\n",
      "Epoch 78, CIFAR-10 Batch 4:  Loss:     0.1523 Validation Accuracy: 0.677200\n",
      "Epoch 78, CIFAR-10 Batch 5:  Loss:     0.1447 Validation Accuracy: 0.671800\n",
      "Epoch 79, CIFAR-10 Batch 1:  Loss:     0.1254 Validation Accuracy: 0.675600\n",
      "Epoch 79, CIFAR-10 Batch 2:  Loss:     0.0968 Validation Accuracy: 0.681200\n",
      "Epoch 79, CIFAR-10 Batch 3:  Loss:     0.1249 Validation Accuracy: 0.669800\n",
      "Epoch 79, CIFAR-10 Batch 4:  Loss:     0.1547 Validation Accuracy: 0.669200\n",
      "Epoch 79, CIFAR-10 Batch 5:  Loss:     0.1413 Validation Accuracy: 0.674800\n",
      "Epoch 80, CIFAR-10 Batch 1:  Loss:     0.1490 Validation Accuracy: 0.669600\n",
      "Epoch 80, CIFAR-10 Batch 2:  Loss:     0.1051 Validation Accuracy: 0.670400\n",
      "Epoch 80, CIFAR-10 Batch 3:  Loss:     0.1305 Validation Accuracy: 0.659600\n",
      "Epoch 80, CIFAR-10 Batch 4:  Loss:     0.1664 Validation Accuracy: 0.656000\n",
      "Epoch 80, CIFAR-10 Batch 5:  Loss:     0.1446 Validation Accuracy: 0.671600\n",
      "Epoch 81, CIFAR-10 Batch 1:  Loss:     0.1393 Validation Accuracy: 0.669000\n",
      "Epoch 81, CIFAR-10 Batch 2:  Loss:     0.1057 Validation Accuracy: 0.677600\n",
      "Epoch 81, CIFAR-10 Batch 3:  Loss:     0.1482 Validation Accuracy: 0.665400\n",
      "Epoch 81, CIFAR-10 Batch 4:  Loss:     0.1436 Validation Accuracy: 0.674800\n",
      "Epoch 81, CIFAR-10 Batch 5:  Loss:     0.1613 Validation Accuracy: 0.672000\n",
      "Epoch 82, CIFAR-10 Batch 1:  Loss:     0.1275 Validation Accuracy: 0.674600\n",
      "Epoch 82, CIFAR-10 Batch 2:  Loss:     0.1248 Validation Accuracy: 0.674400\n",
      "Epoch 82, CIFAR-10 Batch 3:  Loss:     0.1194 Validation Accuracy: 0.665800\n",
      "Epoch 82, CIFAR-10 Batch 4:  Loss:     0.1423 Validation Accuracy: 0.670000\n",
      "Epoch 82, CIFAR-10 Batch 5:  Loss:     0.1410 Validation Accuracy: 0.672800\n",
      "Epoch 83, CIFAR-10 Batch 1:  Loss:     0.1239 Validation Accuracy: 0.674000\n",
      "Epoch 83, CIFAR-10 Batch 2:  Loss:     0.0876 Validation Accuracy: 0.689000\n",
      "Epoch 83, CIFAR-10 Batch 3:  Loss:     0.1183 Validation Accuracy: 0.664200\n",
      "Epoch 83, CIFAR-10 Batch 4:  Loss:     0.1658 Validation Accuracy: 0.654000\n",
      "Epoch 83, CIFAR-10 Batch 5:  Loss:     0.1361 Validation Accuracy: 0.675600\n",
      "Epoch 84, CIFAR-10 Batch 1:  Loss:     0.1000 Validation Accuracy: 0.676400\n",
      "Epoch 84, CIFAR-10 Batch 2:  Loss:     0.1114 Validation Accuracy: 0.684200\n",
      "Epoch 84, CIFAR-10 Batch 3:  Loss:     0.1027 Validation Accuracy: 0.664200\n",
      "Epoch 84, CIFAR-10 Batch 4:  Loss:     0.1395 Validation Accuracy: 0.658200\n",
      "Epoch 84, CIFAR-10 Batch 5:  Loss:     0.1337 Validation Accuracy: 0.676600\n",
      "Epoch 85, CIFAR-10 Batch 1:  Loss:     0.1269 Validation Accuracy: 0.670800\n",
      "Epoch 85, CIFAR-10 Batch 2:  Loss:     0.1069 Validation Accuracy: 0.681200\n",
      "Epoch 85, CIFAR-10 Batch 3:  Loss:     0.0970 Validation Accuracy: 0.660000\n",
      "Epoch 85, CIFAR-10 Batch 4:  Loss:     0.1368 Validation Accuracy: 0.666200\n",
      "Epoch 85, CIFAR-10 Batch 5:  Loss:     0.1363 Validation Accuracy: 0.672000\n",
      "Epoch 86, CIFAR-10 Batch 1:  Loss:     0.1133 Validation Accuracy: 0.676200\n",
      "Epoch 86, CIFAR-10 Batch 2:  Loss:     0.1006 Validation Accuracy: 0.682400\n",
      "Epoch 86, CIFAR-10 Batch 3:  Loss:     0.0870 Validation Accuracy: 0.664800\n",
      "Epoch 86, CIFAR-10 Batch 4:  Loss:     0.1145 Validation Accuracy: 0.664600\n",
      "Epoch 86, CIFAR-10 Batch 5:  Loss:     0.1245 Validation Accuracy: 0.675200\n",
      "Epoch 87, CIFAR-10 Batch 1:  Loss:     0.1061 Validation Accuracy: 0.670800\n",
      "Epoch 87, CIFAR-10 Batch 2:  Loss:     0.0845 Validation Accuracy: 0.678600\n",
      "Epoch 87, CIFAR-10 Batch 3:  Loss:     0.0925 Validation Accuracy: 0.665600\n",
      "Epoch 87, CIFAR-10 Batch 4:  Loss:     0.0979 Validation Accuracy: 0.671200\n",
      "Epoch 87, CIFAR-10 Batch 5:  Loss:     0.1173 Validation Accuracy: 0.681400\n",
      "Epoch 88, CIFAR-10 Batch 1:  Loss:     0.0950 Validation Accuracy: 0.674800\n",
      "Epoch 88, CIFAR-10 Batch 2:  Loss:     0.0933 Validation Accuracy: 0.678200\n",
      "Epoch 88, CIFAR-10 Batch 3:  Loss:     0.0961 Validation Accuracy: 0.663200\n",
      "Epoch 88, CIFAR-10 Batch 4:  Loss:     0.1019 Validation Accuracy: 0.668000\n",
      "Epoch 88, CIFAR-10 Batch 5:  Loss:     0.1270 Validation Accuracy: 0.677200\n",
      "Epoch 89, CIFAR-10 Batch 1:  Loss:     0.1086 Validation Accuracy: 0.669000\n",
      "Epoch 89, CIFAR-10 Batch 2:  Loss:     0.0880 Validation Accuracy: 0.670200\n",
      "Epoch 89, CIFAR-10 Batch 3:  Loss:     0.0957 Validation Accuracy: 0.667200\n",
      "Epoch 89, CIFAR-10 Batch 4:  Loss:     0.1085 Validation Accuracy: 0.663600\n",
      "Epoch 89, CIFAR-10 Batch 5:  Loss:     0.1587 Validation Accuracy: 0.666000\n",
      "Epoch 90, CIFAR-10 Batch 1:  Loss:     0.1244 Validation Accuracy: 0.673800\n",
      "Epoch 90, CIFAR-10 Batch 2:  Loss:     0.0945 Validation Accuracy: 0.671800\n",
      "Epoch 90, CIFAR-10 Batch 3:  Loss:     0.0946 Validation Accuracy: 0.669800\n",
      "Epoch 90, CIFAR-10 Batch 4:  Loss:     0.1000 Validation Accuracy: 0.667800\n",
      "Epoch 90, CIFAR-10 Batch 5:  Loss:     0.1240 Validation Accuracy: 0.681800\n",
      "Epoch 91, CIFAR-10 Batch 1:  Loss:     0.0905 Validation Accuracy: 0.680400\n",
      "Epoch 91, CIFAR-10 Batch 2:  Loss:     0.0902 Validation Accuracy: 0.666400\n",
      "Epoch 91, CIFAR-10 Batch 3:  Loss:     0.0965 Validation Accuracy: 0.668800\n",
      "Epoch 91, CIFAR-10 Batch 4:  Loss:     0.0968 Validation Accuracy: 0.668000\n",
      "Epoch 91, CIFAR-10 Batch 5:  Loss:     0.1177 Validation Accuracy: 0.683800\n",
      "Epoch 92, CIFAR-10 Batch 1:  Loss:     0.0951 Validation Accuracy: 0.674200\n",
      "Epoch 92, CIFAR-10 Batch 2:  Loss:     0.0738 Validation Accuracy: 0.674200\n",
      "Epoch 92, CIFAR-10 Batch 3:  Loss:     0.0771 Validation Accuracy: 0.669800\n",
      "Epoch 92, CIFAR-10 Batch 4:  Loss:     0.0854 Validation Accuracy: 0.670200\n",
      "Epoch 92, CIFAR-10 Batch 5:  Loss:     0.1079 Validation Accuracy: 0.678400\n",
      "Epoch 93, CIFAR-10 Batch 1:  Loss:     0.0939 Validation Accuracy: 0.667400\n",
      "Epoch 93, CIFAR-10 Batch 2:  Loss:     0.0724 Validation Accuracy: 0.673200\n",
      "Epoch 93, CIFAR-10 Batch 3:  Loss:     0.0877 Validation Accuracy: 0.664200\n",
      "Epoch 93, CIFAR-10 Batch 4:  Loss:     0.0895 Validation Accuracy: 0.664600\n",
      "Epoch 93, CIFAR-10 Batch 5:  Loss:     0.1229 Validation Accuracy: 0.671200\n",
      "Epoch 94, CIFAR-10 Batch 1:  Loss:     0.0937 Validation Accuracy: 0.670400\n",
      "Epoch 94, CIFAR-10 Batch 2:  Loss:     0.1028 Validation Accuracy: 0.653800\n",
      "Epoch 94, CIFAR-10 Batch 3:  Loss:     0.0899 Validation Accuracy: 0.673200\n",
      "Epoch 94, CIFAR-10 Batch 4:  Loss:     0.1205 Validation Accuracy: 0.654400\n",
      "Epoch 94, CIFAR-10 Batch 5:  Loss:     0.1596 Validation Accuracy: 0.651400\n",
      "Epoch 95, CIFAR-10 Batch 1:  Loss:     0.1149 Validation Accuracy: 0.662400\n",
      "Epoch 95, CIFAR-10 Batch 2:  Loss:     0.1134 Validation Accuracy: 0.660000\n",
      "Epoch 95, CIFAR-10 Batch 3:  Loss:     0.0872 Validation Accuracy: 0.668600\n",
      "Epoch 95, CIFAR-10 Batch 4:  Loss:     0.1362 Validation Accuracy: 0.651600\n",
      "Epoch 95, CIFAR-10 Batch 5:  Loss:     0.1524 Validation Accuracy: 0.657600\n",
      "Epoch 96, CIFAR-10 Batch 1:  Loss:     0.1210 Validation Accuracy: 0.662000\n",
      "Epoch 96, CIFAR-10 Batch 2:  Loss:     0.0932 Validation Accuracy: 0.669400\n",
      "Epoch 96, CIFAR-10 Batch 3:  Loss:     0.1001 Validation Accuracy: 0.661200\n",
      "Epoch 96, CIFAR-10 Batch 4:  Loss:     0.1301 Validation Accuracy: 0.649600\n",
      "Epoch 96, CIFAR-10 Batch 5:  Loss:     0.1340 Validation Accuracy: 0.660000\n",
      "Epoch 97, CIFAR-10 Batch 1:  Loss:     0.1236 Validation Accuracy: 0.667400\n",
      "Epoch 97, CIFAR-10 Batch 2:  Loss:     0.1125 Validation Accuracy: 0.659200\n",
      "Epoch 97, CIFAR-10 Batch 3:  Loss:     0.0905 Validation Accuracy: 0.684000\n",
      "Epoch 97, CIFAR-10 Batch 4:  Loss:     0.1226 Validation Accuracy: 0.646600\n",
      "Epoch 97, CIFAR-10 Batch 5:  Loss:     0.1243 Validation Accuracy: 0.669400\n",
      "Epoch 98, CIFAR-10 Batch 1:  Loss:     0.1057 Validation Accuracy: 0.673200\n",
      "Epoch 98, CIFAR-10 Batch 2:  Loss:     0.0949 Validation Accuracy: 0.662200\n",
      "Epoch 98, CIFAR-10 Batch 3:  Loss:     0.0899 Validation Accuracy: 0.673400\n",
      "Epoch 98, CIFAR-10 Batch 4:  Loss:     0.1415 Validation Accuracy: 0.644000\n",
      "Epoch 98, CIFAR-10 Batch 5:  Loss:     0.1447 Validation Accuracy: 0.668200\n",
      "Epoch 99, CIFAR-10 Batch 1:  Loss:     0.1102 Validation Accuracy: 0.673600\n",
      "Epoch 99, CIFAR-10 Batch 2:  Loss:     0.0915 Validation Accuracy: 0.677800\n",
      "Epoch 99, CIFAR-10 Batch 3:  Loss:     0.1004 Validation Accuracy: 0.677400\n",
      "Epoch 99, CIFAR-10 Batch 4:  Loss:     0.1098 Validation Accuracy: 0.646200\n",
      "Epoch 99, CIFAR-10 Batch 5:  Loss:     0.1188 Validation Accuracy: 0.668400\n",
      "Epoch 100, CIFAR-10 Batch 1:  Loss:     0.1121 Validation Accuracy: 0.665000\n",
      "Epoch 100, CIFAR-10 Batch 2:  Loss:     0.0762 Validation Accuracy: 0.683600\n",
      "Epoch 100, CIFAR-10 Batch 3:  Loss:     0.0913 Validation Accuracy: 0.683200\n",
      "Epoch 100, CIFAR-10 Batch 4:  Loss:     0.1089 Validation Accuracy: 0.640600\n",
      "Epoch 100, CIFAR-10 Batch 5:  Loss:     0.1234 Validation Accuracy: 0.666000\n"
     ]
    }
   ],
   "source": [
    "\"\"\"\n",
    "DON'T MODIFY ANYTHING IN THIS CELL\n",
    "\"\"\"\n",
    "save_model_path = './image_classification'\n",
    "\n",
    "print('Training...')\n",
    "with tf.Session() as sess:\n",
    "    # Initializing the variables\n",
    "    sess.run(tf.global_variables_initializer())\n",
    "    \n",
    "    # Training cycle\n",
    "    for epoch in range(epochs):\n",
    "        # Loop over all batches\n",
    "        n_batches = 5\n",
    "        for batch_i in range(1, n_batches + 1):\n",
    "            for batch_features, batch_labels in helper.load_preprocess_training_batch(batch_i, batch_size):\n",
    "                train_neural_network(sess, optimizer, keep_probability, batch_features, batch_labels)\n",
    "            print('Epoch {:>2}, CIFAR-10 Batch {}:  '.format(epoch + 1, batch_i), end='')\n",
    "            print_stats(sess, batch_features, batch_labels, cost, accuracy)\n",
    "            \n",
    "    # Save Model\n",
    "    saver = tf.train.Saver()\n",
    "    save_path = saver.save(sess, save_model_path)"
   ]
  },
  {
   "cell_type": "markdown",
   "metadata": {
    "deletable": true,
    "editable": true
   },
   "source": [
    "# Checkpoint\n",
    "The model has been saved to disk.\n",
    "## Test Model\n",
    "Test your model against the test dataset.  This will be your final accuracy. You should have an accuracy greater than 50%. If you don't, keep tweaking the model architecture and parameters."
   ]
  },
  {
   "cell_type": "code",
   "execution_count": 35,
   "metadata": {
    "collapsed": false,
    "deletable": true,
    "editable": true
   },
   "outputs": [
    {
     "name": "stdout",
     "output_type": "stream",
     "text": [
      "Testing Accuracy: 0.6597541391849517\n",
      "\n"
     ]
    },
    {
     "data": {
      "image/png": "[encoded data removed]",
      "text/plain": [
       "<matplotlib.figure.Figure at 0x7ff590ec49e8>"
      ]
     },
     "metadata": {
      "image/png": {
       "height": 319,
       "width": 355
      }
     },
     "output_type": "display_data"
    }
   ],
   "source": [
    "\"\"\"\n",
    "DON'T MODIFY ANYTHING IN THIS CELL\n",
    "\"\"\"\n",
    "%matplotlib inline\n",
    "%config InlineBackend.figure_format = 'retina'\n",
    "\n",
    "import tensorflow as tf\n",
    "import pickle\n",
    "import helper\n",
    "import random\n",
    "\n",
    "# Set batch size if not already set\n",
    "try:\n",
    "    if batch_size:\n",
    "        pass\n",
    "except NameError:\n",
    "    batch_size = 64\n",
    "\n",
    "save_model_path = './image_classification'\n",
    "n_samples = 4\n",
    "top_n_predictions = 3\n",
    "\n",
    "def test_model():\n",
    "    \"\"\"\n",
    "    Test the saved model against the test dataset\n",
    "    \"\"\"\n",
    "\n",
    "    test_features, test_labels = pickle.load(open('preprocess_test.p', mode='rb'))\n",
    "    loaded_graph = tf.Graph()\n",
    "\n",
    "    with tf.Session(graph=loaded_graph) as sess:\n",
    "        # Load model\n",
    "        loader = tf.train.import_meta_graph(save_model_path + '.meta')\n",
    "        loader.restore(sess, save_model_path)\n",
    "\n",
    "        # Get Tensors from loaded model\n",
    "        loaded_x = loaded_graph.get_tensor_by_name('x:0')\n",
    "        loaded_y = loaded_graph.get_tensor_by_name('y:0')\n",
    "        loaded_keep_prob = loaded_graph.get_tensor_by_name('keep_prob:0')\n",
    "        loaded_logits = loaded_graph.get_tensor_by_name('logits:0')\n",
    "        loaded_acc = loaded_graph.get_tensor_by_name('accuracy:0')\n",
    "        \n",
    "        # Get accuracy in batches for memory limitations\n",
    "        test_batch_acc_total = 0\n",
    "        test_batch_count = 0\n",
    "        \n",
    "        for test_feature_batch, test_label_batch in helper.batch_features_labels(test_features, test_labels, batch_size):\n",
    "            test_batch_acc_total += sess.run(\n",
    "                loaded_acc,\n",
    "                feed_dict={loaded_x: test_feature_batch, loaded_y: test_label_batch, loaded_keep_prob: 1.0})\n",
    "            test_batch_count += 1\n",
    "\n",
    "        print('Testing Accuracy: {}\\n'.format(test_batch_acc_total/test_batch_count))\n",
    "\n",
    "        # Print Random Samples\n",
    "        random_test_features, random_test_labels = tuple(zip(*random.sample(list(zip(test_features, test_labels)), n_samples)))\n",
    "        random_test_predictions = sess.run(\n",
    "            tf.nn.top_k(tf.nn.softmax(loaded_logits), top_n_predictions),\n",
    "            feed_dict={loaded_x: random_test_features, loaded_y: random_test_labels, loaded_keep_prob: 1.0})\n",
    "        helper.display_image_predictions(random_test_features, random_test_labels, random_test_predictions)\n",
    "\n",
    "\n",
    "test_model()"
   ]
  },
  {
   "cell_type": "markdown",
   "metadata": {
    "deletable": true,
    "editable": true
   },
   "source": [
    "## Why 50-80% Accuracy?\n",
    "You might be wondering why you can't get an accuracy any higher. First things first, 50% isn't bad for a simple CNN.  Pure guessing would get you 10% accuracy. However, you might notice people are getting scores [well above 80%](http://rodrigob.github.io/are_we_there_yet/build/classification_datasets_results.html#43494641522d3130).  That's because we haven't taught you all there is to know about neural networks. We still need to cover a few more techniques.\n",
    "## Submitting This Project\n",
    "When submitting this project, make sure to run all the cells before saving the notebook.  Save the notebook file as \"dlnd_image_classification.ipynb\" and save it as a HTML file under \"File\" -> \"Download as\".  Include the \"helper.py\" and \"problem_unittests.py\" files in your submission."
   ]
  }
 ],
 "metadata": {
  "anaconda-cloud": {},
  "kernelspec": {
   "display_name": "Python 3",
   "language": "python",
   "name": "python3"
  },
  "language_info": {
   "codemirror_mode": {
    "name": "ipython",
    "version": 3
   },
   "file_extension": ".py",
   "mimetype": "text/x-python",
   "name": "python",
   "nbconvert_exporter": "python",
   "pygments_lexer": "ipython3",
   "version": "3.5.3"
  }
 },
 "nbformat": 4,
 "nbformat_minor": 1
}
